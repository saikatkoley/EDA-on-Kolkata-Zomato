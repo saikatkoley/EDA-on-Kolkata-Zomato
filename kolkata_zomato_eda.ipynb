{
 "cells": [
  {
   "cell_type": "code",
   "execution_count": 1,
   "id": "7fcf07b3",
   "metadata": {},
   "outputs": [],
   "source": [
    "# Import all necessary library\n",
    "import pandas as pd\n",
    "import numpy as np\n",
    "import matplotlib.pyplot as plt\n",
    "import plotly.express as px\n",
    "import seaborn as sns\n",
    "from collections import OrderedDict\n",
    "%matplotlib inline"
   ]
  },
  {
   "cell_type": "code",
   "execution_count": 2,
   "id": "a916eca0",
   "metadata": {},
   "outputs": [],
   "source": [
    "# Loading the CSV(DataSet)\n",
    "df = pd.read_csv(\"./dataset/Zomato_Kolkata_Restaurants.csv\")"
   ]
  },
  {
   "cell_type": "code",
   "execution_count": 3,
   "id": "8e89722f",
   "metadata": {},
   "outputs": [
    {
     "data": {
      "text/html": [
       "<div>\n",
       "<style scoped>\n",
       "    .dataframe tbody tr th:only-of-type {\n",
       "        vertical-align: middle;\n",
       "    }\n",
       "\n",
       "    .dataframe tbody tr th {\n",
       "        vertical-align: top;\n",
       "    }\n",
       "\n",
       "    .dataframe thead th {\n",
       "        text-align: right;\n",
       "    }\n",
       "</style>\n",
       "<table border=\"1\" class=\"dataframe\">\n",
       "  <thead>\n",
       "    <tr style=\"text-align: right;\">\n",
       "      <th></th>\n",
       "      <th>Name</th>\n",
       "      <th>URL</th>\n",
       "      <th>Cuisines</th>\n",
       "      <th>Area</th>\n",
       "      <th>Timing</th>\n",
       "      <th>Full_Address</th>\n",
       "      <th>PhoneNumber</th>\n",
       "      <th>IsHomeDelivery</th>\n",
       "      <th>isTakeaway</th>\n",
       "      <th>isIndoorSeating</th>\n",
       "      <th>isVegOnly</th>\n",
       "      <th>Dinner Ratings</th>\n",
       "      <th>Dinner Reviews</th>\n",
       "      <th>Delivery Ratings</th>\n",
       "      <th>Delivery Reviews</th>\n",
       "      <th>KnownFor</th>\n",
       "      <th>PopularDishes</th>\n",
       "      <th>PeopleKnownFor</th>\n",
       "      <th>AverageCost</th>\n",
       "    </tr>\n",
       "  </thead>\n",
       "  <tbody>\n",
       "    <tr>\n",
       "      <th>0</th>\n",
       "      <td>Jyoti Vihar</td>\n",
       "      <td>https://www.zomato.com/kolkata/jyoti-vihar-cam...</td>\n",
       "      <td>South Indian</td>\n",
       "      <td>Camac Street Area, Kolkata</td>\n",
       "      <td>Opens tomorrow at 10am</td>\n",
       "      <td>3A/1, Ho Chi Minh Sarani, Camac Street Area, K...</td>\n",
       "      <td>+919748084091</td>\n",
       "      <td>1</td>\n",
       "      <td>1</td>\n",
       "      <td>1</td>\n",
       "      <td>1</td>\n",
       "      <td>4.4</td>\n",
       "      <td>930</td>\n",
       "      <td>4.1</td>\n",
       "      <td>5498</td>\n",
       "      <td>South Indian Delicacies</td>\n",
       "      <td>Milk Upma, Jyoti Vihar, Vada Sambar, Filtered ...</td>\n",
       "      <td>South Indian Food, Good Crowd, Excellent Place...</td>\n",
       "      <td>300</td>\n",
       "    </tr>\n",
       "    <tr>\n",
       "      <th>1</th>\n",
       "      <td>WOW! Momo</td>\n",
       "      <td>https://www.zomato.com/kolkata/wow-momo-park-s...</td>\n",
       "      <td>Momos, Fast Food, Tibetan</td>\n",
       "      <td>Park Street Area, Kolkata</td>\n",
       "      <td>9am – 3am (Today)</td>\n",
       "      <td>57, Park Street, Beside Vodafone Store, Park S...</td>\n",
       "      <td>+917604053802</td>\n",
       "      <td>1</td>\n",
       "      <td>1</td>\n",
       "      <td>1</td>\n",
       "      <td>0</td>\n",
       "      <td>4.0</td>\n",
       "      <td>469</td>\n",
       "      <td>4.1</td>\n",
       "      <td>11100</td>\n",
       "      <td>NaN</td>\n",
       "      <td>Tandoori Paneer Momos, Momo Platter, Chocolate...</td>\n",
       "      <td>Comfortable Seating Area, Staff Service, Famil...</td>\n",
       "      <td>350</td>\n",
       "    </tr>\n",
       "    <tr>\n",
       "      <th>2</th>\n",
       "      <td>Zam Zam</td>\n",
       "      <td>https://www.zomato.com/kolkata/zam-zam-park-ci...</td>\n",
       "      <td>Biryani, Rolls</td>\n",
       "      <td>Park Circus Area, Kolkata</td>\n",
       "      <td>Opens at 12noon</td>\n",
       "      <td>28/A, Syed Amir Ali Avenue, Park Circus Area, ...</td>\n",
       "      <td>+919748710818</td>\n",
       "      <td>1</td>\n",
       "      <td>1</td>\n",
       "      <td>1</td>\n",
       "      <td>0</td>\n",
       "      <td>4.4</td>\n",
       "      <td>1901</td>\n",
       "      <td>4.3</td>\n",
       "      <td>83100</td>\n",
       "      <td>NaN</td>\n",
       "      <td>Beef Malai, Beef Bhuna, Hariyali Chicken, Sahi...</td>\n",
       "      <td>Ordering Process, Gastronomical Experience, Co...</td>\n",
       "      <td>500</td>\n",
       "    </tr>\n",
       "    <tr>\n",
       "      <th>3</th>\n",
       "      <td>Daily Bhoj</td>\n",
       "      <td>https://www.zomato.com/kolkata/daily-bhoj-topsia</td>\n",
       "      <td>Bengali</td>\n",
       "      <td>Topsia, Kolkata</td>\n",
       "      <td>NaN</td>\n",
       "      <td>139/1G, Tljala Road, Topsia, Kolkata</td>\n",
       "      <td>+919330778809</td>\n",
       "      <td>1</td>\n",
       "      <td>0</td>\n",
       "      <td>0</td>\n",
       "      <td>0</td>\n",
       "      <td>-</td>\n",
       "      <td>0</td>\n",
       "      <td>3.9</td>\n",
       "      <td>2260</td>\n",
       "      <td>NaN</td>\n",
       "      <td>NaN</td>\n",
       "      <td>Great Portions, Worth the Money, Timely Servic...</td>\n",
       "      <td>150</td>\n",
       "    </tr>\n",
       "    <tr>\n",
       "      <th>4</th>\n",
       "      <td>Behnam</td>\n",
       "      <td>https://www.zomato.com/kolkata/behnam-topsia</td>\n",
       "      <td>Biryani, North Indian, Mughlai, Rolls, Kebab, ...</td>\n",
       "      <td>Topsia, Kolkata</td>\n",
       "      <td>Opens at 11am</td>\n",
       "      <td>139/1G, Tiljala Road, Near OYO Townhouse 229, ...</td>\n",
       "      <td>+919330778809</td>\n",
       "      <td>1</td>\n",
       "      <td>1</td>\n",
       "      <td>0</td>\n",
       "      <td>0</td>\n",
       "      <td>-</td>\n",
       "      <td>0</td>\n",
       "      <td>2.9</td>\n",
       "      <td>151</td>\n",
       "      <td>NaN</td>\n",
       "      <td>NaN</td>\n",
       "      <td>Worth the Money, Timely Service, Great Portion...</td>\n",
       "      <td>200</td>\n",
       "    </tr>\n",
       "    <tr>\n",
       "      <th>5</th>\n",
       "      <td>Dilnawaz Biryani Centre</td>\n",
       "      <td>https://www.zomato.com/kolkata/dilnawaz-biryan...</td>\n",
       "      <td>Biryani, Mughlai</td>\n",
       "      <td>Tollygunge, Kolkata</td>\n",
       "      <td>Opens at 12noon</td>\n",
       "      <td>28, Deshpran Shasmal Road, Ward 81 BR X, Near ...</td>\n",
       "      <td>+918282836227</td>\n",
       "      <td>1</td>\n",
       "      <td>1</td>\n",
       "      <td>0</td>\n",
       "      <td>0</td>\n",
       "      <td>4.0</td>\n",
       "      <td>506</td>\n",
       "      <td>4.0</td>\n",
       "      <td>42500</td>\n",
       "      <td>NaN</td>\n",
       "      <td>NaN</td>\n",
       "      <td>Comfort Food, Cute Little Place, Inexpensive, ...</td>\n",
       "      <td>200</td>\n",
       "    </tr>\n",
       "    <tr>\n",
       "      <th>6</th>\n",
       "      <td>Aminia</td>\n",
       "      <td>https://www.zomato.com/kolkata/aminia-new-mark...</td>\n",
       "      <td>Biryani, Mughlai, North Indian, Rolls, Kebab</td>\n",
       "      <td>New Market Area, Kolkata</td>\n",
       "      <td>Opens at 11:32am</td>\n",
       "      <td>6A, S.N. Banerjee Road, New Market Area, Kolkata</td>\n",
       "      <td>+913322651318</td>\n",
       "      <td>1</td>\n",
       "      <td>1</td>\n",
       "      <td>1</td>\n",
       "      <td>0</td>\n",
       "      <td>3.5</td>\n",
       "      <td>3271</td>\n",
       "      <td>3.9</td>\n",
       "      <td>1112</td>\n",
       "      <td>NaN</td>\n",
       "      <td>Rice Pudding, Mutton Galouti Kabab, Bhuna Chic...</td>\n",
       "      <td>Gastronomical Experience, Good for Large Group...</td>\n",
       "      <td>700</td>\n",
       "    </tr>\n",
       "    <tr>\n",
       "      <th>7</th>\n",
       "      <td>Haka</td>\n",
       "      <td>https://www.zomato.com/kolkata/haka-ballygunge</td>\n",
       "      <td>Chinese, Momos, Desserts, Beverages</td>\n",
       "      <td>Ballygunge, Kolkata</td>\n",
       "      <td>NaN</td>\n",
       "      <td>3A, Uniworth House, Gurusaday Road, Ballygunge...</td>\n",
       "      <td>+919330627506</td>\n",
       "      <td>1</td>\n",
       "      <td>0</td>\n",
       "      <td>0</td>\n",
       "      <td>0</td>\n",
       "      <td>-</td>\n",
       "      <td>0</td>\n",
       "      <td>4.4</td>\n",
       "      <td>712</td>\n",
       "      <td>NaN</td>\n",
       "      <td>Chicken Suimai, Crispy Chilli Baby Corn, Dumpl...</td>\n",
       "      <td>Cute Packaging, Proper Packaging, Food Present...</td>\n",
       "      <td>300</td>\n",
       "    </tr>\n",
       "    <tr>\n",
       "      <th>8</th>\n",
       "      <td>Arsalan</td>\n",
       "      <td>https://www.zomato.com/kolkata/arsalan-park-st...</td>\n",
       "      <td>Biryani, North Indian, Kebab, Bengali</td>\n",
       "      <td>Park Street Area, Kolkata</td>\n",
       "      <td>NaN</td>\n",
       "      <td>119A, Muzaffar Ahmed Street, Park Street Area,...</td>\n",
       "      <td>+919007007935</td>\n",
       "      <td>1</td>\n",
       "      <td>1</td>\n",
       "      <td>1</td>\n",
       "      <td>0</td>\n",
       "      <td>4.1</td>\n",
       "      <td>1367</td>\n",
       "      <td>4.2</td>\n",
       "      <td>9638</td>\n",
       "      <td>Biryani and Tandoor!</td>\n",
       "      <td>Chicken Boneless Masala, Mutton Haleem, Specia...</td>\n",
       "      <td>Cost Worthy, Gastronomical Experience, Ample S...</td>\n",
       "      <td>600</td>\n",
       "    </tr>\n",
       "    <tr>\n",
       "      <th>9</th>\n",
       "      <td>Domino's Pizza</td>\n",
       "      <td>https://www.zomato.com/kolkata/dominos-pizza-2...</td>\n",
       "      <td>Pizza, Fast Food, Beverages, Desserts</td>\n",
       "      <td>Park Street Area, Kolkata</td>\n",
       "      <td>10am – 2:57am (Today)</td>\n",
       "      <td>31, Ward 63, Chowringhee Road, Shakespeare Sar...</td>\n",
       "      <td>+913340070755</td>\n",
       "      <td>1</td>\n",
       "      <td>1</td>\n",
       "      <td>1</td>\n",
       "      <td>0</td>\n",
       "      <td>3.7</td>\n",
       "      <td>133</td>\n",
       "      <td>4.1</td>\n",
       "      <td>3931</td>\n",
       "      <td>NaN</td>\n",
       "      <td>NaN</td>\n",
       "      <td>Student Crowd, Good Music, Elaborate Menu, Cus...</td>\n",
       "      <td>400</td>\n",
       "    </tr>\n",
       "  </tbody>\n",
       "</table>\n",
       "</div>"
      ],
      "text/plain": [
       "                      Name                                                URL  \\\n",
       "0              Jyoti Vihar  https://www.zomato.com/kolkata/jyoti-vihar-cam...   \n",
       "1                WOW! Momo  https://www.zomato.com/kolkata/wow-momo-park-s...   \n",
       "2                  Zam Zam  https://www.zomato.com/kolkata/zam-zam-park-ci...   \n",
       "3               Daily Bhoj   https://www.zomato.com/kolkata/daily-bhoj-topsia   \n",
       "4                   Behnam       https://www.zomato.com/kolkata/behnam-topsia   \n",
       "5  Dilnawaz Biryani Centre  https://www.zomato.com/kolkata/dilnawaz-biryan...   \n",
       "6                   Aminia  https://www.zomato.com/kolkata/aminia-new-mark...   \n",
       "7                     Haka     https://www.zomato.com/kolkata/haka-ballygunge   \n",
       "8                  Arsalan  https://www.zomato.com/kolkata/arsalan-park-st...   \n",
       "9           Domino's Pizza  https://www.zomato.com/kolkata/dominos-pizza-2...   \n",
       "\n",
       "                                            Cuisines  \\\n",
       "0                                       South Indian   \n",
       "1                          Momos, Fast Food, Tibetan   \n",
       "2                                     Biryani, Rolls   \n",
       "3                                            Bengali   \n",
       "4  Biryani, North Indian, Mughlai, Rolls, Kebab, ...   \n",
       "5                                   Biryani, Mughlai   \n",
       "6       Biryani, Mughlai, North Indian, Rolls, Kebab   \n",
       "7                Chinese, Momos, Desserts, Beverages   \n",
       "8              Biryani, North Indian, Kebab, Bengali   \n",
       "9              Pizza, Fast Food, Beverages, Desserts   \n",
       "\n",
       "                         Area                  Timing  \\\n",
       "0  Camac Street Area, Kolkata  Opens tomorrow at 10am   \n",
       "1   Park Street Area, Kolkata       9am – 3am (Today)   \n",
       "2   Park Circus Area, Kolkata         Opens at 12noon   \n",
       "3             Topsia, Kolkata                     NaN   \n",
       "4             Topsia, Kolkata           Opens at 11am   \n",
       "5         Tollygunge, Kolkata         Opens at 12noon   \n",
       "6    New Market Area, Kolkata        Opens at 11:32am   \n",
       "7         Ballygunge, Kolkata                     NaN   \n",
       "8   Park Street Area, Kolkata                     NaN   \n",
       "9   Park Street Area, Kolkata   10am – 2:57am (Today)   \n",
       "\n",
       "                                        Full_Address    PhoneNumber  \\\n",
       "0  3A/1, Ho Chi Minh Sarani, Camac Street Area, K...  +919748084091   \n",
       "1  57, Park Street, Beside Vodafone Store, Park S...  +917604053802   \n",
       "2  28/A, Syed Amir Ali Avenue, Park Circus Area, ...  +919748710818   \n",
       "3               139/1G, Tljala Road, Topsia, Kolkata  +919330778809   \n",
       "4  139/1G, Tiljala Road, Near OYO Townhouse 229, ...  +919330778809   \n",
       "5  28, Deshpran Shasmal Road, Ward 81 BR X, Near ...  +918282836227   \n",
       "6   6A, S.N. Banerjee Road, New Market Area, Kolkata  +913322651318   \n",
       "7  3A, Uniworth House, Gurusaday Road, Ballygunge...  +919330627506   \n",
       "8  119A, Muzaffar Ahmed Street, Park Street Area,...  +919007007935   \n",
       "9  31, Ward 63, Chowringhee Road, Shakespeare Sar...  +913340070755   \n",
       "\n",
       "   IsHomeDelivery  isTakeaway  isIndoorSeating  isVegOnly Dinner Ratings  \\\n",
       "0               1           1                1          1            4.4   \n",
       "1               1           1                1          0            4.0   \n",
       "2               1           1                1          0            4.4   \n",
       "3               1           0                0          0              -   \n",
       "4               1           1                0          0              -   \n",
       "5               1           1                0          0            4.0   \n",
       "6               1           1                1          0            3.5   \n",
       "7               1           0                0          0              -   \n",
       "8               1           1                1          0            4.1   \n",
       "9               1           1                1          0            3.7   \n",
       "\n",
       "   Dinner Reviews Delivery Ratings  Delivery Reviews                 KnownFor  \\\n",
       "0             930              4.1              5498  South Indian Delicacies   \n",
       "1             469              4.1             11100                      NaN   \n",
       "2            1901              4.3             83100                      NaN   \n",
       "3               0              3.9              2260                      NaN   \n",
       "4               0              2.9               151                      NaN   \n",
       "5             506              4.0             42500                      NaN   \n",
       "6            3271              3.9              1112                      NaN   \n",
       "7               0              4.4               712                      NaN   \n",
       "8            1367              4.2              9638     Biryani and Tandoor!   \n",
       "9             133              4.1              3931                      NaN   \n",
       "\n",
       "                                       PopularDishes  \\\n",
       "0  Milk Upma, Jyoti Vihar, Vada Sambar, Filtered ...   \n",
       "1  Tandoori Paneer Momos, Momo Platter, Chocolate...   \n",
       "2  Beef Malai, Beef Bhuna, Hariyali Chicken, Sahi...   \n",
       "3                                                NaN   \n",
       "4                                                NaN   \n",
       "5                                                NaN   \n",
       "6  Rice Pudding, Mutton Galouti Kabab, Bhuna Chic...   \n",
       "7  Chicken Suimai, Crispy Chilli Baby Corn, Dumpl...   \n",
       "8  Chicken Boneless Masala, Mutton Haleem, Specia...   \n",
       "9                                                NaN   \n",
       "\n",
       "                                      PeopleKnownFor  AverageCost  \n",
       "0  South Indian Food, Good Crowd, Excellent Place...          300  \n",
       "1  Comfortable Seating Area, Staff Service, Famil...          350  \n",
       "2  Ordering Process, Gastronomical Experience, Co...          500  \n",
       "3  Great Portions, Worth the Money, Timely Servic...          150  \n",
       "4  Worth the Money, Timely Service, Great Portion...          200  \n",
       "5  Comfort Food, Cute Little Place, Inexpensive, ...          200  \n",
       "6  Gastronomical Experience, Good for Large Group...          700  \n",
       "7  Cute Packaging, Proper Packaging, Food Present...          300  \n",
       "8  Cost Worthy, Gastronomical Experience, Ample S...          600  \n",
       "9  Student Crowd, Good Music, Elaborate Menu, Cus...          400  "
      ]
     },
     "execution_count": 3,
     "metadata": {},
     "output_type": "execute_result"
    }
   ],
   "source": [
    "# Understanding the data\n",
    "# Read first 10 row of the dataset\n",
    "df.head(10)"
   ]
  },
  {
   "cell_type": "code",
   "execution_count": 4,
   "id": "b19070a1",
   "metadata": {},
   "outputs": [
    {
     "name": "stdout",
     "output_type": "stream",
     "text": [
      "<class 'pandas.core.frame.DataFrame'>\n",
      "RangeIndex: 4923 entries, 0 to 4922\n",
      "Data columns (total 19 columns):\n",
      " #   Column            Non-Null Count  Dtype \n",
      "---  ------            --------------  ----- \n",
      " 0   Name              4923 non-null   object\n",
      " 1   URL               4923 non-null   object\n",
      " 2   Cuisines          4923 non-null   object\n",
      " 3   Area              4923 non-null   object\n",
      " 4   Timing            3281 non-null   object\n",
      " 5   Full_Address      4923 non-null   object\n",
      " 6   PhoneNumber       4923 non-null   object\n",
      " 7   IsHomeDelivery    4923 non-null   int64 \n",
      " 8   isTakeaway        4923 non-null   int64 \n",
      " 9   isIndoorSeating   4923 non-null   int64 \n",
      " 10  isVegOnly         4923 non-null   int64 \n",
      " 11  Dinner Ratings    4923 non-null   object\n",
      " 12  Dinner Reviews    4923 non-null   int64 \n",
      " 13  Delivery Ratings  4923 non-null   object\n",
      " 14  Delivery Reviews  4923 non-null   int64 \n",
      " 15  KnownFor          199 non-null    object\n",
      " 16  PopularDishes     1004 non-null   object\n",
      " 17  PeopleKnownFor    2039 non-null   object\n",
      " 18  AverageCost       4923 non-null   int64 \n",
      "dtypes: int64(7), object(12)\n",
      "memory usage: 730.9+ KB\n"
     ]
    }
   ],
   "source": [
    "# Get some information about the dataset\n",
    "df.info()"
   ]
  },
  {
   "cell_type": "code",
   "execution_count": 5,
   "id": "a30372f3",
   "metadata": {},
   "outputs": [
    {
     "data": {
      "text/plain": [
       "(4923, 19)"
      ]
     },
     "execution_count": 5,
     "metadata": {},
     "output_type": "execute_result"
    }
   ],
   "source": [
    "# Shape of the dataset\n",
    "df.shape"
   ]
  },
  {
   "cell_type": "code",
   "execution_count": 6,
   "id": "df48e425",
   "metadata": {},
   "outputs": [
    {
     "data": {
      "text/plain": [
       "Index(['Name', 'URL', 'Cuisines', 'Area', 'Timing', 'Full_Address',\n",
       "       'PhoneNumber', 'IsHomeDelivery', 'isTakeaway', 'isIndoorSeating',\n",
       "       'isVegOnly', 'Dinner Ratings', 'Dinner Reviews', 'Delivery Ratings',\n",
       "       'Delivery Reviews', 'KnownFor', 'PopularDishes', 'PeopleKnownFor',\n",
       "       'AverageCost'],\n",
       "      dtype='object')"
      ]
     },
     "execution_count": 6,
     "metadata": {},
     "output_type": "execute_result"
    }
   ],
   "source": [
    "# Print all columns of the dataset\n",
    "df.columns"
   ]
  },
  {
   "cell_type": "code",
   "execution_count": 7,
   "id": "91938693",
   "metadata": {},
   "outputs": [
    {
     "data": {
      "text/plain": [
       "Name                0\n",
       "URL                 0\n",
       "Cuisines            0\n",
       "Area                0\n",
       "Timing              0\n",
       "Full_Address        0\n",
       "PhoneNumber         0\n",
       "IsHomeDelivery      0\n",
       "isTakeaway          0\n",
       "isIndoorSeating     0\n",
       "isVegOnly           0\n",
       "Dinner Ratings      0\n",
       "Dinner Reviews      0\n",
       "Delivery Ratings    0\n",
       "Delivery Reviews    0\n",
       "KnownFor            0\n",
       "PopularDishes       0\n",
       "PeopleKnownFor      0\n",
       "AverageCost         0\n",
       "dtype: int64"
      ]
     },
     "execution_count": 7,
     "metadata": {},
     "output_type": "execute_result"
    }
   ],
   "source": [
    "# To see the duplicate value in dataset\n",
    "duplicate_df = df[df.duplicated()]\n",
    "duplicate_df.count()"
   ]
  },
  {
   "cell_type": "code",
   "execution_count": 8,
   "id": "819e4eba",
   "metadata": {},
   "outputs": [
    {
     "data": {
      "text/plain": [
       "Name                   0\n",
       "URL                    0\n",
       "Cuisines               0\n",
       "Area                   0\n",
       "Timing              1642\n",
       "Full_Address           0\n",
       "PhoneNumber            0\n",
       "IsHomeDelivery         0\n",
       "isTakeaway             0\n",
       "isIndoorSeating        0\n",
       "isVegOnly              0\n",
       "Dinner Ratings         0\n",
       "Dinner Reviews         0\n",
       "Delivery Ratings       0\n",
       "Delivery Reviews       0\n",
       "KnownFor            4724\n",
       "PopularDishes       3919\n",
       "PeopleKnownFor      2884\n",
       "AverageCost            0\n",
       "dtype: int64"
      ]
     },
     "execution_count": 8,
     "metadata": {},
     "output_type": "execute_result"
    }
   ],
   "source": [
    "# To check the NULL value in dataset\n",
    "df.isnull().sum()"
   ]
  },
  {
   "cell_type": "code",
   "execution_count": 9,
   "id": "dcc4a453",
   "metadata": {},
   "outputs": [],
   "source": [
    "# Drop the unused columns\n",
    "new_df = df.drop(['URL','Timing','KnownFor','Full_Address','PhoneNumber'], axis=1)"
   ]
  },
  {
   "cell_type": "code",
   "execution_count": 10,
   "id": "0dd82edf",
   "metadata": {},
   "outputs": [
    {
     "data": {
      "text/html": [
       "<div>\n",
       "<style scoped>\n",
       "    .dataframe tbody tr th:only-of-type {\n",
       "        vertical-align: middle;\n",
       "    }\n",
       "\n",
       "    .dataframe tbody tr th {\n",
       "        vertical-align: top;\n",
       "    }\n",
       "\n",
       "    .dataframe thead th {\n",
       "        text-align: right;\n",
       "    }\n",
       "</style>\n",
       "<table border=\"1\" class=\"dataframe\">\n",
       "  <thead>\n",
       "    <tr style=\"text-align: right;\">\n",
       "      <th></th>\n",
       "      <th>Name</th>\n",
       "      <th>Cuisines</th>\n",
       "      <th>Area</th>\n",
       "      <th>IsHomeDelivery</th>\n",
       "      <th>isTakeaway</th>\n",
       "      <th>isIndoorSeating</th>\n",
       "      <th>isVegOnly</th>\n",
       "      <th>Dinner Ratings</th>\n",
       "      <th>Dinner Reviews</th>\n",
       "      <th>Delivery Ratings</th>\n",
       "      <th>Delivery Reviews</th>\n",
       "      <th>PopularDishes</th>\n",
       "      <th>PeopleKnownFor</th>\n",
       "      <th>AverageCost</th>\n",
       "    </tr>\n",
       "  </thead>\n",
       "  <tbody>\n",
       "    <tr>\n",
       "      <th>0</th>\n",
       "      <td>Jyoti Vihar</td>\n",
       "      <td>South Indian</td>\n",
       "      <td>Camac Street Area, Kolkata</td>\n",
       "      <td>1</td>\n",
       "      <td>1</td>\n",
       "      <td>1</td>\n",
       "      <td>1</td>\n",
       "      <td>4.4</td>\n",
       "      <td>930</td>\n",
       "      <td>4.1</td>\n",
       "      <td>5498</td>\n",
       "      <td>Milk Upma, Jyoti Vihar, Vada Sambar, Filtered ...</td>\n",
       "      <td>South Indian Food, Good Crowd, Excellent Place...</td>\n",
       "      <td>300</td>\n",
       "    </tr>\n",
       "    <tr>\n",
       "      <th>1</th>\n",
       "      <td>WOW! Momo</td>\n",
       "      <td>Momos, Fast Food, Tibetan</td>\n",
       "      <td>Park Street Area, Kolkata</td>\n",
       "      <td>1</td>\n",
       "      <td>1</td>\n",
       "      <td>1</td>\n",
       "      <td>0</td>\n",
       "      <td>4.0</td>\n",
       "      <td>469</td>\n",
       "      <td>4.1</td>\n",
       "      <td>11100</td>\n",
       "      <td>Tandoori Paneer Momos, Momo Platter, Chocolate...</td>\n",
       "      <td>Comfortable Seating Area, Staff Service, Famil...</td>\n",
       "      <td>350</td>\n",
       "    </tr>\n",
       "    <tr>\n",
       "      <th>2</th>\n",
       "      <td>Zam Zam</td>\n",
       "      <td>Biryani, Rolls</td>\n",
       "      <td>Park Circus Area, Kolkata</td>\n",
       "      <td>1</td>\n",
       "      <td>1</td>\n",
       "      <td>1</td>\n",
       "      <td>0</td>\n",
       "      <td>4.4</td>\n",
       "      <td>1901</td>\n",
       "      <td>4.3</td>\n",
       "      <td>83100</td>\n",
       "      <td>Beef Malai, Beef Bhuna, Hariyali Chicken, Sahi...</td>\n",
       "      <td>Ordering Process, Gastronomical Experience, Co...</td>\n",
       "      <td>500</td>\n",
       "    </tr>\n",
       "    <tr>\n",
       "      <th>3</th>\n",
       "      <td>Daily Bhoj</td>\n",
       "      <td>Bengali</td>\n",
       "      <td>Topsia, Kolkata</td>\n",
       "      <td>1</td>\n",
       "      <td>0</td>\n",
       "      <td>0</td>\n",
       "      <td>0</td>\n",
       "      <td>-</td>\n",
       "      <td>0</td>\n",
       "      <td>3.9</td>\n",
       "      <td>2260</td>\n",
       "      <td>NaN</td>\n",
       "      <td>Great Portions, Worth the Money, Timely Servic...</td>\n",
       "      <td>150</td>\n",
       "    </tr>\n",
       "    <tr>\n",
       "      <th>4</th>\n",
       "      <td>Behnam</td>\n",
       "      <td>Biryani, North Indian, Mughlai, Rolls, Kebab, ...</td>\n",
       "      <td>Topsia, Kolkata</td>\n",
       "      <td>1</td>\n",
       "      <td>1</td>\n",
       "      <td>0</td>\n",
       "      <td>0</td>\n",
       "      <td>-</td>\n",
       "      <td>0</td>\n",
       "      <td>2.9</td>\n",
       "      <td>151</td>\n",
       "      <td>NaN</td>\n",
       "      <td>Worth the Money, Timely Service, Great Portion...</td>\n",
       "      <td>200</td>\n",
       "    </tr>\n",
       "  </tbody>\n",
       "</table>\n",
       "</div>"
      ],
      "text/plain": [
       "          Name                                           Cuisines  \\\n",
       "0  Jyoti Vihar                                       South Indian   \n",
       "1    WOW! Momo                          Momos, Fast Food, Tibetan   \n",
       "2      Zam Zam                                     Biryani, Rolls   \n",
       "3   Daily Bhoj                                            Bengali   \n",
       "4       Behnam  Biryani, North Indian, Mughlai, Rolls, Kebab, ...   \n",
       "\n",
       "                         Area  IsHomeDelivery  isTakeaway  isIndoorSeating  \\\n",
       "0  Camac Street Area, Kolkata               1           1                1   \n",
       "1   Park Street Area, Kolkata               1           1                1   \n",
       "2   Park Circus Area, Kolkata               1           1                1   \n",
       "3             Topsia, Kolkata               1           0                0   \n",
       "4             Topsia, Kolkata               1           1                0   \n",
       "\n",
       "   isVegOnly Dinner Ratings  Dinner Reviews Delivery Ratings  \\\n",
       "0          1            4.4             930              4.1   \n",
       "1          0            4.0             469              4.1   \n",
       "2          0            4.4            1901              4.3   \n",
       "3          0              -               0              3.9   \n",
       "4          0              -               0              2.9   \n",
       "\n",
       "   Delivery Reviews                                      PopularDishes  \\\n",
       "0              5498  Milk Upma, Jyoti Vihar, Vada Sambar, Filtered ...   \n",
       "1             11100  Tandoori Paneer Momos, Momo Platter, Chocolate...   \n",
       "2             83100  Beef Malai, Beef Bhuna, Hariyali Chicken, Sahi...   \n",
       "3              2260                                                NaN   \n",
       "4               151                                                NaN   \n",
       "\n",
       "                                      PeopleKnownFor  AverageCost  \n",
       "0  South Indian Food, Good Crowd, Excellent Place...          300  \n",
       "1  Comfortable Seating Area, Staff Service, Famil...          350  \n",
       "2  Ordering Process, Gastronomical Experience, Co...          500  \n",
       "3  Great Portions, Worth the Money, Timely Servic...          150  \n",
       "4  Worth the Money, Timely Service, Great Portion...          200  "
      ]
     },
     "execution_count": 10,
     "metadata": {},
     "output_type": "execute_result"
    }
   ],
   "source": [
    "new_df.head(5)"
   ]
  },
  {
   "cell_type": "code",
   "execution_count": 11,
   "id": "36bebd95",
   "metadata": {},
   "outputs": [
    {
     "data": {
      "text/plain": [
       "Name                   0\n",
       "Cuisines               0\n",
       "Area                   0\n",
       "IsHomeDelivery         0\n",
       "isTakeaway             0\n",
       "isIndoorSeating        0\n",
       "isVegOnly              0\n",
       "Dinner Ratings         0\n",
       "Dinner Reviews         0\n",
       "Delivery Ratings       0\n",
       "Delivery Reviews       0\n",
       "PopularDishes       3919\n",
       "PeopleKnownFor      2884\n",
       "AverageCost            0\n",
       "dtype: int64"
      ]
     },
     "execution_count": 11,
     "metadata": {},
     "output_type": "execute_result"
    }
   ],
   "source": [
    "# Check missing data again\n",
    "new_df.isnull().sum()"
   ]
  },
  {
   "cell_type": "code",
   "execution_count": 12,
   "id": "729191a4",
   "metadata": {},
   "outputs": [],
   "source": [
    "# Filling the missing data in columns \n",
    "new_df['PopularDishes'] = new_df['PopularDishes'].fillna('No Data')\n",
    "new_df['PeopleKnownFor'] = new_df['PeopleKnownFor'].fillna('No Data')"
   ]
  },
  {
   "cell_type": "code",
   "execution_count": 13,
   "id": "166243cd",
   "metadata": {},
   "outputs": [
    {
     "name": "stdout",
     "output_type": "stream",
     "text": [
      "<class 'pandas.core.frame.DataFrame'>\n",
      "RangeIndex: 4923 entries, 0 to 4922\n",
      "Data columns (total 14 columns):\n",
      " #   Column            Non-Null Count  Dtype \n",
      "---  ------            --------------  ----- \n",
      " 0   Name              4923 non-null   object\n",
      " 1   Cuisines          4923 non-null   object\n",
      " 2   Area              4923 non-null   object\n",
      " 3   IsHomeDelivery    4923 non-null   int64 \n",
      " 4   isTakeaway        4923 non-null   int64 \n",
      " 5   isIndoorSeating   4923 non-null   int64 \n",
      " 6   isVegOnly         4923 non-null   int64 \n",
      " 7   Dinner Ratings    4923 non-null   object\n",
      " 8   Dinner Reviews    4923 non-null   int64 \n",
      " 9   Delivery Ratings  4923 non-null   object\n",
      " 10  Delivery Reviews  4923 non-null   int64 \n",
      " 11  PopularDishes     4923 non-null   object\n",
      " 12  PeopleKnownFor    4923 non-null   object\n",
      " 13  AverageCost       4923 non-null   int64 \n",
      "dtypes: int64(7), object(7)\n",
      "memory usage: 538.6+ KB\n"
     ]
    }
   ],
   "source": [
    "# Check once again the data type of the new dataset\n",
    "new_df.info()"
   ]
  },
  {
   "cell_type": "code",
   "execution_count": 14,
   "id": "6639b614",
   "metadata": {},
   "outputs": [],
   "source": [
    "# Replace empty rating from '-' to 0\n",
    "new_df['Dinner Ratings'] = new_df['Dinner Ratings'].replace('-','0')\n",
    "new_df['Delivery Ratings'] = new_df['Delivery Ratings'].replace('-','0')"
   ]
  },
  {
   "cell_type": "code",
   "execution_count": 15,
   "id": "5cad7a24",
   "metadata": {},
   "outputs": [],
   "source": [
    "# Need to convert \"Dinner Ratings\" and \"Delivery Ratings\" dtype\n",
    "new_df['Dinner Ratings'] = new_df['Dinner Ratings'].astype('float64')\n",
    "new_df['Delivery Ratings'] = new_df['Delivery Ratings'].astype('float64')"
   ]
  },
  {
   "cell_type": "code",
   "execution_count": 16,
   "id": "9d00e1bc",
   "metadata": {},
   "outputs": [
    {
     "data": {
      "text/html": [
       "<div>\n",
       "<style scoped>\n",
       "    .dataframe tbody tr th:only-of-type {\n",
       "        vertical-align: middle;\n",
       "    }\n",
       "\n",
       "    .dataframe tbody tr th {\n",
       "        vertical-align: top;\n",
       "    }\n",
       "\n",
       "    .dataframe thead th {\n",
       "        text-align: right;\n",
       "    }\n",
       "</style>\n",
       "<table border=\"1\" class=\"dataframe\">\n",
       "  <thead>\n",
       "    <tr style=\"text-align: right;\">\n",
       "      <th></th>\n",
       "      <th>Name</th>\n",
       "      <th>Cuisines</th>\n",
       "      <th>Area</th>\n",
       "      <th>IsHomeDelivery</th>\n",
       "      <th>isTakeaway</th>\n",
       "      <th>isIndoorSeating</th>\n",
       "      <th>isVegOnly</th>\n",
       "      <th>Dinner Ratings</th>\n",
       "      <th>Dinner Reviews</th>\n",
       "      <th>Delivery Ratings</th>\n",
       "      <th>Delivery Reviews</th>\n",
       "      <th>PopularDishes</th>\n",
       "      <th>PeopleKnownFor</th>\n",
       "      <th>AverageCost</th>\n",
       "    </tr>\n",
       "  </thead>\n",
       "  <tbody>\n",
       "    <tr>\n",
       "      <th>0</th>\n",
       "      <td>Jyoti Vihar</td>\n",
       "      <td>South Indian</td>\n",
       "      <td>Camac Street Area, Kolkata</td>\n",
       "      <td>1</td>\n",
       "      <td>1</td>\n",
       "      <td>1</td>\n",
       "      <td>1</td>\n",
       "      <td>4.4</td>\n",
       "      <td>930</td>\n",
       "      <td>4.1</td>\n",
       "      <td>5498</td>\n",
       "      <td>Milk Upma, Jyoti Vihar, Vada Sambar, Filtered ...</td>\n",
       "      <td>South Indian Food, Good Crowd, Excellent Place...</td>\n",
       "      <td>300</td>\n",
       "    </tr>\n",
       "    <tr>\n",
       "      <th>1</th>\n",
       "      <td>WOW! Momo</td>\n",
       "      <td>Momos, Fast Food, Tibetan</td>\n",
       "      <td>Park Street Area, Kolkata</td>\n",
       "      <td>1</td>\n",
       "      <td>1</td>\n",
       "      <td>1</td>\n",
       "      <td>0</td>\n",
       "      <td>4.0</td>\n",
       "      <td>469</td>\n",
       "      <td>4.1</td>\n",
       "      <td>11100</td>\n",
       "      <td>Tandoori Paneer Momos, Momo Platter, Chocolate...</td>\n",
       "      <td>Comfortable Seating Area, Staff Service, Famil...</td>\n",
       "      <td>350</td>\n",
       "    </tr>\n",
       "    <tr>\n",
       "      <th>2</th>\n",
       "      <td>Zam Zam</td>\n",
       "      <td>Biryani, Rolls</td>\n",
       "      <td>Park Circus Area, Kolkata</td>\n",
       "      <td>1</td>\n",
       "      <td>1</td>\n",
       "      <td>1</td>\n",
       "      <td>0</td>\n",
       "      <td>4.4</td>\n",
       "      <td>1901</td>\n",
       "      <td>4.3</td>\n",
       "      <td>83100</td>\n",
       "      <td>Beef Malai, Beef Bhuna, Hariyali Chicken, Sahi...</td>\n",
       "      <td>Ordering Process, Gastronomical Experience, Co...</td>\n",
       "      <td>500</td>\n",
       "    </tr>\n",
       "    <tr>\n",
       "      <th>3</th>\n",
       "      <td>Daily Bhoj</td>\n",
       "      <td>Bengali</td>\n",
       "      <td>Topsia, Kolkata</td>\n",
       "      <td>1</td>\n",
       "      <td>0</td>\n",
       "      <td>0</td>\n",
       "      <td>0</td>\n",
       "      <td>0.0</td>\n",
       "      <td>0</td>\n",
       "      <td>3.9</td>\n",
       "      <td>2260</td>\n",
       "      <td>No Data</td>\n",
       "      <td>Great Portions, Worth the Money, Timely Servic...</td>\n",
       "      <td>150</td>\n",
       "    </tr>\n",
       "    <tr>\n",
       "      <th>4</th>\n",
       "      <td>Behnam</td>\n",
       "      <td>Biryani, North Indian, Mughlai, Rolls, Kebab, ...</td>\n",
       "      <td>Topsia, Kolkata</td>\n",
       "      <td>1</td>\n",
       "      <td>1</td>\n",
       "      <td>0</td>\n",
       "      <td>0</td>\n",
       "      <td>0.0</td>\n",
       "      <td>0</td>\n",
       "      <td>2.9</td>\n",
       "      <td>151</td>\n",
       "      <td>No Data</td>\n",
       "      <td>Worth the Money, Timely Service, Great Portion...</td>\n",
       "      <td>200</td>\n",
       "    </tr>\n",
       "  </tbody>\n",
       "</table>\n",
       "</div>"
      ],
      "text/plain": [
       "          Name                                           Cuisines  \\\n",
       "0  Jyoti Vihar                                       South Indian   \n",
       "1    WOW! Momo                          Momos, Fast Food, Tibetan   \n",
       "2      Zam Zam                                     Biryani, Rolls   \n",
       "3   Daily Bhoj                                            Bengali   \n",
       "4       Behnam  Biryani, North Indian, Mughlai, Rolls, Kebab, ...   \n",
       "\n",
       "                         Area  IsHomeDelivery  isTakeaway  isIndoorSeating  \\\n",
       "0  Camac Street Area, Kolkata               1           1                1   \n",
       "1   Park Street Area, Kolkata               1           1                1   \n",
       "2   Park Circus Area, Kolkata               1           1                1   \n",
       "3             Topsia, Kolkata               1           0                0   \n",
       "4             Topsia, Kolkata               1           1                0   \n",
       "\n",
       "   isVegOnly  Dinner Ratings  Dinner Reviews  Delivery Ratings  \\\n",
       "0          1             4.4             930               4.1   \n",
       "1          0             4.0             469               4.1   \n",
       "2          0             4.4            1901               4.3   \n",
       "3          0             0.0               0               3.9   \n",
       "4          0             0.0               0               2.9   \n",
       "\n",
       "   Delivery Reviews                                      PopularDishes  \\\n",
       "0              5498  Milk Upma, Jyoti Vihar, Vada Sambar, Filtered ...   \n",
       "1             11100  Tandoori Paneer Momos, Momo Platter, Chocolate...   \n",
       "2             83100  Beef Malai, Beef Bhuna, Hariyali Chicken, Sahi...   \n",
       "3              2260                                            No Data   \n",
       "4               151                                            No Data   \n",
       "\n",
       "                                      PeopleKnownFor  AverageCost  \n",
       "0  South Indian Food, Good Crowd, Excellent Place...          300  \n",
       "1  Comfortable Seating Area, Staff Service, Famil...          350  \n",
       "2  Ordering Process, Gastronomical Experience, Co...          500  \n",
       "3  Great Portions, Worth the Money, Timely Servic...          150  \n",
       "4  Worth the Money, Timely Service, Great Portion...          200  "
      ]
     },
     "execution_count": 16,
     "metadata": {},
     "output_type": "execute_result"
    }
   ],
   "source": [
    "# Check dataset again\n",
    "new_df.head()"
   ]
  },
  {
   "cell_type": "code",
   "execution_count": 17,
   "id": "b0e784cb",
   "metadata": {},
   "outputs": [
    {
     "data": {
      "image/png": "[encoded data removed]",
      "text/plain": [
       "<Figure size 640x480 with 1 Axes>"
      ]
     },
     "metadata": {},
     "output_type": "display_data"
    }
   ],
   "source": [
    "# Top 20 area has highest number of restaurants\n",
    "new_df['Area'].value_counts().head(20).plot(kind='bar')\n",
    "plt.title(\"Number of Restaurants based on Area\")\n",
    "plt.show()\n"
   ]
  },
  {
   "cell_type": "code",
   "execution_count": 18,
   "id": "147e66e3",
   "metadata": {},
   "outputs": [
    {
     "data": {
      "text/plain": [
       "Name                                                  Barbeque Nation\n",
       "Cuisines                  BBQ, Chinese, Kebab, North Indian, Desserts\n",
       "Area                                               Wellesley, Kolkata\n",
       "IsHomeDelivery                                                      1\n",
       "isTakeaway                                                          1\n",
       "isIndoorSeating                                                     1\n",
       "isVegOnly                                                           0\n",
       "Dinner Ratings                                                    4.9\n",
       "Dinner Reviews                                                   5619\n",
       "Delivery Ratings                                                  3.9\n",
       "Delivery Reviews                                                 1507\n",
       "PopularDishes       Mangalorean Fish Curry, Sheer Korma, Chicken C...\n",
       "PeopleKnownFor      Cost Suits the Pocket, Live Grill, Complimenta...\n",
       "AverageCost                                                      1800\n",
       "Name: 56, dtype: object"
      ]
     },
     "execution_count": 18,
     "metadata": {},
     "output_type": "execute_result"
    }
   ],
   "source": [
    "# Top restaurants based on Dinner Ratings\n",
    "column_id_by_dinner = new_df['Dinner Ratings'].idxmax()\n",
    "new_df.iloc[column_id_by_dinner]"
   ]
  },
  {
   "cell_type": "code",
   "execution_count": 19,
   "id": "e17e721e",
   "metadata": {},
   "outputs": [
    {
     "data": {
      "text/plain": [
       "Name                Kwality Wall’s Frozen Dessert and Ice Cream Shop\n",
       "Cuisines                                         Ice Cream, Desserts\n",
       "Area                                               Kestopur, Kolkata\n",
       "IsHomeDelivery                                                     1\n",
       "isTakeaway                                                         0\n",
       "isIndoorSeating                                                    0\n",
       "isVegOnly                                                          0\n",
       "Dinner Ratings                                                   0.0\n",
       "Dinner Reviews                                                     0\n",
       "Delivery Ratings                                                 4.6\n",
       "Delivery Reviews                                                 224\n",
       "PopularDishes                                                No Data\n",
       "PeopleKnownFor                                               No Data\n",
       "AverageCost                                                      100\n",
       "Name: 552, dtype: object"
      ]
     },
     "execution_count": 19,
     "metadata": {},
     "output_type": "execute_result"
    }
   ],
   "source": [
    "# Top restaurants based on Delivery Ratings\n",
    "column_id_by_delivery = new_df['Delivery Ratings'].idxmax()\n",
    "new_df.iloc[column_id_by_delivery]"
   ]
  },
  {
   "cell_type": "code",
   "execution_count": 20,
   "id": "ea0086c4",
   "metadata": {},
   "outputs": [
    {
     "data": {
      "text/html": [
       "<div>\n",
       "<style scoped>\n",
       "    .dataframe tbody tr th:only-of-type {\n",
       "        vertical-align: middle;\n",
       "    }\n",
       "\n",
       "    .dataframe tbody tr th {\n",
       "        vertical-align: top;\n",
       "    }\n",
       "\n",
       "    .dataframe thead th {\n",
       "        text-align: right;\n",
       "    }\n",
       "</style>\n",
       "<table border=\"1\" class=\"dataframe\">\n",
       "  <thead>\n",
       "    <tr style=\"text-align: right;\">\n",
       "      <th></th>\n",
       "      <th>Name</th>\n",
       "      <th>Cuisines</th>\n",
       "      <th>Area</th>\n",
       "      <th>IsHomeDelivery</th>\n",
       "      <th>isTakeaway</th>\n",
       "      <th>isIndoorSeating</th>\n",
       "      <th>isVegOnly</th>\n",
       "      <th>Dinner Ratings</th>\n",
       "      <th>Dinner Reviews</th>\n",
       "      <th>Delivery Ratings</th>\n",
       "      <th>Delivery Reviews</th>\n",
       "      <th>PopularDishes</th>\n",
       "      <th>PeopleKnownFor</th>\n",
       "      <th>AverageCost</th>\n",
       "    </tr>\n",
       "  </thead>\n",
       "  <tbody>\n",
       "    <tr>\n",
       "      <th>72</th>\n",
       "      <td>Natural Ice Cream</td>\n",
       "      <td>Ice Cream, Desserts</td>\n",
       "      <td>Park Street Area, Kolkata</td>\n",
       "      <td>1</td>\n",
       "      <td>1</td>\n",
       "      <td>1</td>\n",
       "      <td>1</td>\n",
       "      <td>4.9</td>\n",
       "      <td>2419</td>\n",
       "      <td>4.5</td>\n",
       "      <td>9632</td>\n",
       "      <td>Chiku Shake, Chocobite, Choco Bite, Sitafal Ic...</td>\n",
       "      <td>Bank for the Buck, Totally Worth it, Pretty De...</td>\n",
       "      <td>300</td>\n",
       "    </tr>\n",
       "  </tbody>\n",
       "</table>\n",
       "</div>"
      ],
      "text/plain": [
       "                 Name             Cuisines                       Area  \\\n",
       "72  Natural Ice Cream  Ice Cream, Desserts  Park Street Area, Kolkata   \n",
       "\n",
       "    IsHomeDelivery  isTakeaway  isIndoorSeating  isVegOnly  Dinner Ratings  \\\n",
       "72               1           1                1          1             4.9   \n",
       "\n",
       "    Dinner Reviews  Delivery Ratings  Delivery Reviews  \\\n",
       "72            2419               4.5              9632   \n",
       "\n",
       "                                        PopularDishes  \\\n",
       "72  Chiku Shake, Chocobite, Choco Bite, Sitafal Ic...   \n",
       "\n",
       "                                       PeopleKnownFor  AverageCost  \n",
       "72  Bank for the Buck, Totally Worth it, Pretty De...          300  "
      ]
     },
     "execution_count": 20,
     "metadata": {},
     "output_type": "execute_result"
    }
   ],
   "source": [
    "# Top restaurants based on Dinner Ratings and Delivery Ratings\n",
    "new_df.loc[(new_df['Dinner Ratings'] >= 4.5) & (new_df['Delivery Ratings'] >= 4.5)].sort_values(by=['Dinner Ratings','Delivery Ratings'], ascending=False)"
   ]
  },
  {
   "cell_type": "code",
   "execution_count": 21,
   "id": "f51e376c",
   "metadata": {},
   "outputs": [
    {
     "data": {
      "text/plain": [
       "0                                                 Bengali\n",
       "1                                                 Biryani\n",
       "2                                                 Chinese\n",
       "3                                            North Indian\n",
       "4                                        Bakery, Desserts\n",
       "                              ...                        \n",
       "2005                     Chinese, Fast Food, Momos, Rolls\n",
       "2006    North Indian, Bengali, Chinese, Mughlai, Fast ...\n",
       "2007     Bengali, Chinese, North Indian, Rolls, Fast Food\n",
       "2008                   Chinese, Tibetan, Momos, Fast Food\n",
       "2009                       Chinese, Bengali, South Indian\n",
       "Name: cusine, Length: 2010, dtype: object"
      ]
     },
     "execution_count": 21,
     "metadata": {},
     "output_type": "execute_result"
    }
   ],
   "source": [
    "# Creating a new Dataframe having total count from each cuisine by separating those from the single string \n",
    "restaurant_count=pd.DataFrame(new_df['Cuisines'].value_counts().sort_values(ascending=False))\n",
    "restaurant_count.rename(columns = {'cusine':'Count'},inplace=True)\n",
    "restaurant_count.index.rename('cusine',inplace=True)\n",
    "restaurant_count.reset_index(inplace=True)\n",
    "restaurant_count['cusine']"
   ]
  },
  {
   "cell_type": "code",
   "execution_count": 22,
   "id": "6c998dab",
   "metadata": {},
   "outputs": [
    {
     "data": {
      "text/html": [
       "<div>\n",
       "<style scoped>\n",
       "    .dataframe tbody tr th:only-of-type {\n",
       "        vertical-align: middle;\n",
       "    }\n",
       "\n",
       "    .dataframe tbody tr th {\n",
       "        vertical-align: top;\n",
       "    }\n",
       "\n",
       "    .dataframe thead th {\n",
       "        text-align: right;\n",
       "    }\n",
       "</style>\n",
       "<table border=\"1\" class=\"dataframe\">\n",
       "  <thead>\n",
       "    <tr style=\"text-align: right;\">\n",
       "      <th></th>\n",
       "      <th>cusine</th>\n",
       "      <th>Cuisines</th>\n",
       "    </tr>\n",
       "  </thead>\n",
       "  <tbody>\n",
       "    <tr>\n",
       "      <th>0</th>\n",
       "      <td>Bengali</td>\n",
       "      <td>133</td>\n",
       "    </tr>\n",
       "    <tr>\n",
       "      <th>1</th>\n",
       "      <td>Biryani</td>\n",
       "      <td>125</td>\n",
       "    </tr>\n",
       "    <tr>\n",
       "      <th>2</th>\n",
       "      <td>Chinese</td>\n",
       "      <td>118</td>\n",
       "    </tr>\n",
       "    <tr>\n",
       "      <th>3</th>\n",
       "      <td>North Indian</td>\n",
       "      <td>79</td>\n",
       "    </tr>\n",
       "    <tr>\n",
       "      <th>4</th>\n",
       "      <td>Bakery, Desserts</td>\n",
       "      <td>78</td>\n",
       "    </tr>\n",
       "    <tr>\n",
       "      <th>...</th>\n",
       "      <td>...</td>\n",
       "      <td>...</td>\n",
       "    </tr>\n",
       "    <tr>\n",
       "      <th>2005</th>\n",
       "      <td>Chinese, Fast Food, Momos, Rolls</td>\n",
       "      <td>1</td>\n",
       "    </tr>\n",
       "    <tr>\n",
       "      <th>2006</th>\n",
       "      <td>North Indian, Bengali, Chinese, Mughlai, Fast ...</td>\n",
       "      <td>1</td>\n",
       "    </tr>\n",
       "    <tr>\n",
       "      <th>2007</th>\n",
       "      <td>Bengali, Chinese, North Indian, Rolls, Fast Food</td>\n",
       "      <td>1</td>\n",
       "    </tr>\n",
       "    <tr>\n",
       "      <th>2008</th>\n",
       "      <td>Chinese, Tibetan, Momos, Fast Food</td>\n",
       "      <td>1</td>\n",
       "    </tr>\n",
       "    <tr>\n",
       "      <th>2009</th>\n",
       "      <td>Chinese, Bengali, South Indian</td>\n",
       "      <td>1</td>\n",
       "    </tr>\n",
       "  </tbody>\n",
       "</table>\n",
       "<p>2010 rows × 2 columns</p>\n",
       "</div>"
      ],
      "text/plain": [
       "                                                 cusine  Cuisines\n",
       "0                                               Bengali       133\n",
       "1                                               Biryani       125\n",
       "2                                               Chinese       118\n",
       "3                                          North Indian        79\n",
       "4                                      Bakery, Desserts        78\n",
       "...                                                 ...       ...\n",
       "2005                   Chinese, Fast Food, Momos, Rolls         1\n",
       "2006  North Indian, Bengali, Chinese, Mughlai, Fast ...         1\n",
       "2007   Bengali, Chinese, North Indian, Rolls, Fast Food         1\n",
       "2008                 Chinese, Tibetan, Momos, Fast Food         1\n",
       "2009                     Chinese, Bengali, South Indian         1\n",
       "\n",
       "[2010 rows x 2 columns]"
      ]
     },
     "execution_count": 22,
     "metadata": {},
     "output_type": "execute_result"
    }
   ],
   "source": [
    "restaurant_count"
   ]
  },
  {
   "cell_type": "code",
   "execution_count": 23,
   "id": "dea12dd9",
   "metadata": {},
   "outputs": [],
   "source": [
    "# Spliting cuisines by coma and creating the dataframe\n",
    "split_data = restaurant_count['cusine'].str.split(\",\")\n",
    "data = split_data.to_list()\n",
    "names = ['cusine1','cusine2','cusine3','cusine4','cusine5','cusine6','cusine7','cusine8']\n",
    "restaurant_count = pd.DataFrame(data, columns=names)"
   ]
  },
  {
   "cell_type": "code",
   "execution_count": 24,
   "id": "4563e8b4",
   "metadata": {},
   "outputs": [
    {
     "data": {
      "text/html": [
       "<div>\n",
       "<style scoped>\n",
       "    .dataframe tbody tr th:only-of-type {\n",
       "        vertical-align: middle;\n",
       "    }\n",
       "\n",
       "    .dataframe tbody tr th {\n",
       "        vertical-align: top;\n",
       "    }\n",
       "\n",
       "    .dataframe thead th {\n",
       "        text-align: right;\n",
       "    }\n",
       "</style>\n",
       "<table border=\"1\" class=\"dataframe\">\n",
       "  <thead>\n",
       "    <tr style=\"text-align: right;\">\n",
       "      <th></th>\n",
       "      <th>cusine1</th>\n",
       "      <th>cusine2</th>\n",
       "      <th>cusine3</th>\n",
       "      <th>cusine4</th>\n",
       "      <th>cusine5</th>\n",
       "      <th>cusine6</th>\n",
       "      <th>cusine7</th>\n",
       "      <th>cusine8</th>\n",
       "    </tr>\n",
       "  </thead>\n",
       "  <tbody>\n",
       "    <tr>\n",
       "      <th>0</th>\n",
       "      <td>Bengali</td>\n",
       "      <td>None</td>\n",
       "      <td>None</td>\n",
       "      <td>None</td>\n",
       "      <td>None</td>\n",
       "      <td>None</td>\n",
       "      <td>None</td>\n",
       "      <td>None</td>\n",
       "    </tr>\n",
       "    <tr>\n",
       "      <th>1</th>\n",
       "      <td>Biryani</td>\n",
       "      <td>None</td>\n",
       "      <td>None</td>\n",
       "      <td>None</td>\n",
       "      <td>None</td>\n",
       "      <td>None</td>\n",
       "      <td>None</td>\n",
       "      <td>None</td>\n",
       "    </tr>\n",
       "    <tr>\n",
       "      <th>2</th>\n",
       "      <td>Chinese</td>\n",
       "      <td>None</td>\n",
       "      <td>None</td>\n",
       "      <td>None</td>\n",
       "      <td>None</td>\n",
       "      <td>None</td>\n",
       "      <td>None</td>\n",
       "      <td>None</td>\n",
       "    </tr>\n",
       "    <tr>\n",
       "      <th>3</th>\n",
       "      <td>North Indian</td>\n",
       "      <td>None</td>\n",
       "      <td>None</td>\n",
       "      <td>None</td>\n",
       "      <td>None</td>\n",
       "      <td>None</td>\n",
       "      <td>None</td>\n",
       "      <td>None</td>\n",
       "    </tr>\n",
       "    <tr>\n",
       "      <th>4</th>\n",
       "      <td>Bakery</td>\n",
       "      <td>Desserts</td>\n",
       "      <td>None</td>\n",
       "      <td>None</td>\n",
       "      <td>None</td>\n",
       "      <td>None</td>\n",
       "      <td>None</td>\n",
       "      <td>None</td>\n",
       "    </tr>\n",
       "    <tr>\n",
       "      <th>...</th>\n",
       "      <td>...</td>\n",
       "      <td>...</td>\n",
       "      <td>...</td>\n",
       "      <td>...</td>\n",
       "      <td>...</td>\n",
       "      <td>...</td>\n",
       "      <td>...</td>\n",
       "      <td>...</td>\n",
       "    </tr>\n",
       "    <tr>\n",
       "      <th>2005</th>\n",
       "      <td>Chinese</td>\n",
       "      <td>Fast Food</td>\n",
       "      <td>Momos</td>\n",
       "      <td>Rolls</td>\n",
       "      <td>None</td>\n",
       "      <td>None</td>\n",
       "      <td>None</td>\n",
       "      <td>None</td>\n",
       "    </tr>\n",
       "    <tr>\n",
       "      <th>2006</th>\n",
       "      <td>North Indian</td>\n",
       "      <td>Bengali</td>\n",
       "      <td>Chinese</td>\n",
       "      <td>Mughlai</td>\n",
       "      <td>Fast Food</td>\n",
       "      <td>Rolls</td>\n",
       "      <td>Momos</td>\n",
       "      <td>None</td>\n",
       "    </tr>\n",
       "    <tr>\n",
       "      <th>2007</th>\n",
       "      <td>Bengali</td>\n",
       "      <td>Chinese</td>\n",
       "      <td>North Indian</td>\n",
       "      <td>Rolls</td>\n",
       "      <td>Fast Food</td>\n",
       "      <td>None</td>\n",
       "      <td>None</td>\n",
       "      <td>None</td>\n",
       "    </tr>\n",
       "    <tr>\n",
       "      <th>2008</th>\n",
       "      <td>Chinese</td>\n",
       "      <td>Tibetan</td>\n",
       "      <td>Momos</td>\n",
       "      <td>Fast Food</td>\n",
       "      <td>None</td>\n",
       "      <td>None</td>\n",
       "      <td>None</td>\n",
       "      <td>None</td>\n",
       "    </tr>\n",
       "    <tr>\n",
       "      <th>2009</th>\n",
       "      <td>Chinese</td>\n",
       "      <td>Bengali</td>\n",
       "      <td>South Indian</td>\n",
       "      <td>None</td>\n",
       "      <td>None</td>\n",
       "      <td>None</td>\n",
       "      <td>None</td>\n",
       "      <td>None</td>\n",
       "    </tr>\n",
       "  </tbody>\n",
       "</table>\n",
       "<p>2010 rows × 8 columns</p>\n",
       "</div>"
      ],
      "text/plain": [
       "           cusine1     cusine2        cusine3     cusine4     cusine5 cusine6  \\\n",
       "0          Bengali        None           None        None        None    None   \n",
       "1          Biryani        None           None        None        None    None   \n",
       "2          Chinese        None           None        None        None    None   \n",
       "3     North Indian        None           None        None        None    None   \n",
       "4           Bakery    Desserts           None        None        None    None   \n",
       "...            ...         ...            ...         ...         ...     ...   \n",
       "2005       Chinese   Fast Food          Momos       Rolls        None    None   \n",
       "2006  North Indian     Bengali        Chinese     Mughlai   Fast Food   Rolls   \n",
       "2007       Bengali     Chinese   North Indian       Rolls   Fast Food    None   \n",
       "2008       Chinese     Tibetan          Momos   Fast Food        None    None   \n",
       "2009       Chinese     Bengali   South Indian        None        None    None   \n",
       "\n",
       "     cusine7 cusine8  \n",
       "0       None    None  \n",
       "1       None    None  \n",
       "2       None    None  \n",
       "3       None    None  \n",
       "4       None    None  \n",
       "...      ...     ...  \n",
       "2005    None    None  \n",
       "2006   Momos    None  \n",
       "2007    None    None  \n",
       "2008    None    None  \n",
       "2009    None    None  \n",
       "\n",
       "[2010 rows x 8 columns]"
      ]
     },
     "execution_count": 24,
     "metadata": {},
     "output_type": "execute_result"
    }
   ],
   "source": [
    "restaurant_count"
   ]
  },
  {
   "cell_type": "code",
   "execution_count": 25,
   "id": "c8a1fa99",
   "metadata": {},
   "outputs": [
    {
     "data": {
      "text/html": [
       "<div>\n",
       "<style scoped>\n",
       "    .dataframe tbody tr th:only-of-type {\n",
       "        vertical-align: middle;\n",
       "    }\n",
       "\n",
       "    .dataframe tbody tr th {\n",
       "        vertical-align: top;\n",
       "    }\n",
       "\n",
       "    .dataframe thead th {\n",
       "        text-align: right;\n",
       "    }\n",
       "</style>\n",
       "<table border=\"1\" class=\"dataframe\">\n",
       "  <thead>\n",
       "    <tr style=\"text-align: right;\">\n",
       "      <th></th>\n",
       "      <th>Cuisines</th>\n",
       "      <th>Count</th>\n",
       "    </tr>\n",
       "  </thead>\n",
       "  <tbody>\n",
       "    <tr>\n",
       "      <th>0</th>\n",
       "      <td>Chinese</td>\n",
       "      <td>369</td>\n",
       "    </tr>\n",
       "    <tr>\n",
       "      <th>1</th>\n",
       "      <td>North Indian</td>\n",
       "      <td>360</td>\n",
       "    </tr>\n",
       "    <tr>\n",
       "      <th>2</th>\n",
       "      <td>Fast Food</td>\n",
       "      <td>183</td>\n",
       "    </tr>\n",
       "    <tr>\n",
       "      <th>3</th>\n",
       "      <td>Biryani</td>\n",
       "      <td>120</td>\n",
       "    </tr>\n",
       "    <tr>\n",
       "      <th>4</th>\n",
       "      <td>Bengali</td>\n",
       "      <td>97</td>\n",
       "    </tr>\n",
       "  </tbody>\n",
       "</table>\n",
       "</div>"
      ],
      "text/plain": [
       "       Cuisines  Count\n",
       "0       Chinese    369\n",
       "1  North Indian    360\n",
       "2     Fast Food    183\n",
       "3       Biryani    120\n",
       "4       Bengali     97"
      ]
     },
     "execution_count": 25,
     "metadata": {},
     "output_type": "execute_result"
    }
   ],
   "source": [
    "# Finding the most popular cuisine \n",
    "unique_cuisines = restaurant_count['cusine1'].value_counts()\n",
    "unique_cuisines\n",
    "for col in names[:1]:\n",
    "#     unique_cuisines = unique_cuisines.append(restaurant_count[col].value_counts().sort_values(ascending=False))\n",
    "    unique_cuisines = pd.DataFrame(unique_cuisines)\n",
    "    pd.concat([unique_cuisines],ignore_index=True)\n",
    "# unique_cuisines = pd.DataFrame(unique_cuisines)\n",
    "unique_cuisines.rename(columns = {'cusine1':'Count'},inplace=True)\n",
    "unique_cuisines.index.rename('Cuisines',inplace=True)\n",
    "unique_cuisines.reset_index(inplace=True)\n",
    "unique_cuisines.head()"
   ]
  },
  {
   "cell_type": "code",
   "execution_count": 26,
   "id": "2f5a20b5",
   "metadata": {},
   "outputs": [],
   "source": [
    "# Popular cuisine\n",
    "popular_cuisines = unique_cuisines[unique_cuisines['Count']>50]"
   ]
  },
  {
   "cell_type": "code",
   "execution_count": 27,
   "id": "2c09710c",
   "metadata": {},
   "outputs": [
    {
     "data": {
      "text/html": [
       "<div>\n",
       "<style scoped>\n",
       "    .dataframe tbody tr th:only-of-type {\n",
       "        vertical-align: middle;\n",
       "    }\n",
       "\n",
       "    .dataframe tbody tr th {\n",
       "        vertical-align: top;\n",
       "    }\n",
       "\n",
       "    .dataframe thead th {\n",
       "        text-align: right;\n",
       "    }\n",
       "</style>\n",
       "<table border=\"1\" class=\"dataframe\">\n",
       "  <thead>\n",
       "    <tr style=\"text-align: right;\">\n",
       "      <th></th>\n",
       "      <th>Cuisines</th>\n",
       "      <th>Count</th>\n",
       "    </tr>\n",
       "  </thead>\n",
       "  <tbody>\n",
       "    <tr>\n",
       "      <th>0</th>\n",
       "      <td>Chinese</td>\n",
       "      <td>369</td>\n",
       "    </tr>\n",
       "    <tr>\n",
       "      <th>1</th>\n",
       "      <td>North Indian</td>\n",
       "      <td>360</td>\n",
       "    </tr>\n",
       "    <tr>\n",
       "      <th>2</th>\n",
       "      <td>Fast Food</td>\n",
       "      <td>183</td>\n",
       "    </tr>\n",
       "    <tr>\n",
       "      <th>3</th>\n",
       "      <td>Biryani</td>\n",
       "      <td>120</td>\n",
       "    </tr>\n",
       "    <tr>\n",
       "      <th>4</th>\n",
       "      <td>Bengali</td>\n",
       "      <td>97</td>\n",
       "    </tr>\n",
       "    <tr>\n",
       "      <th>5</th>\n",
       "      <td>Pizza</td>\n",
       "      <td>86</td>\n",
       "    </tr>\n",
       "    <tr>\n",
       "      <th>6</th>\n",
       "      <td>Cafe</td>\n",
       "      <td>78</td>\n",
       "    </tr>\n",
       "    <tr>\n",
       "      <th>7</th>\n",
       "      <td>Continental</td>\n",
       "      <td>58</td>\n",
       "    </tr>\n",
       "    <tr>\n",
       "      <th>8</th>\n",
       "      <td>South Indian</td>\n",
       "      <td>57</td>\n",
       "    </tr>\n",
       "  </tbody>\n",
       "</table>\n",
       "</div>"
      ],
      "text/plain": [
       "       Cuisines  Count\n",
       "0       Chinese    369\n",
       "1  North Indian    360\n",
       "2     Fast Food    183\n",
       "3       Biryani    120\n",
       "4       Bengali     97\n",
       "5         Pizza     86\n",
       "6          Cafe     78\n",
       "7   Continental     58\n",
       "8  South Indian     57"
      ]
     },
     "execution_count": 27,
     "metadata": {},
     "output_type": "execute_result"
    }
   ],
   "source": [
    "popular_cuisines"
   ]
  },
  {
   "cell_type": "code",
   "execution_count": 28,
   "id": "d6a9ba32",
   "metadata": {},
   "outputs": [
    {
     "data": {
      "application/vnd.plotly.v1+json": {
       "config": {
        "plotlyServerURL": "https://plot.ly"
       },
       "data": [
        {
         "alignmentgroup": "True",
         "hovertemplate": "Cuisines=%{x}<br>Count=%{y}<extra></extra>",
         "legendgroup": "Chinese",
         "marker": {
          "color": "#636efa",
          "pattern": {
           "shape": ""
          }
         },
         "name": "Chinese",
         "offsetgroup": "Chinese",
         "orientation": "v",
         "showlegend": true,
         "textposition": "auto",
         "type": "bar",
         "x": [
          "Chinese"
         ],
         "xaxis": "x",
         "y": [
          369
         ],
         "yaxis": "y"
        },
        {
         "alignmentgroup": "True",
         "hovertemplate": "Cuisines=%{x}<br>Count=%{y}<extra></extra>",
         "legendgroup": "North Indian",
         "marker": {
          "color": "#EF553B",
          "pattern": {
           "shape": ""
          }
         },
         "name": "North Indian",
         "offsetgroup": "North Indian",
         "orientation": "v",
         "showlegend": true,
         "textposition": "auto",
         "type": "bar",
         "x": [
          "North Indian"
         ],
         "xaxis": "x",
         "y": [
          360
         ],
         "yaxis": "y"
        },
        {
         "alignmentgroup": "True",
         "hovertemplate": "Cuisines=%{x}<br>Count=%{y}<extra></extra>",
         "legendgroup": "Fast Food",
         "marker": {
          "color": "#00cc96",
          "pattern": {
           "shape": ""
          }
         },
         "name": "Fast Food",
         "offsetgroup": "Fast Food",
         "orientation": "v",
         "showlegend": true,
         "textposition": "auto",
         "type": "bar",
         "x": [
          "Fast Food"
         ],
         "xaxis": "x",
         "y": [
          183
         ],
         "yaxis": "y"
        },
        {
         "alignmentgroup": "True",
         "hovertemplate": "Cuisines=%{x}<br>Count=%{y}<extra></extra>",
         "legendgroup": "Biryani",
         "marker": {
          "color": "#ab63fa",
          "pattern": {
           "shape": ""
          }
         },
         "name": "Biryani",
         "offsetgroup": "Biryani",
         "orientation": "v",
         "showlegend": true,
         "textposition": "auto",
         "type": "bar",
         "x": [
          "Biryani"
         ],
         "xaxis": "x",
         "y": [
          120
         ],
         "yaxis": "y"
        },
        {
         "alignmentgroup": "True",
         "hovertemplate": "Cuisines=%{x}<br>Count=%{y}<extra></extra>",
         "legendgroup": "Bengali",
         "marker": {
          "color": "#FFA15A",
          "pattern": {
           "shape": ""
          }
         },
         "name": "Bengali",
         "offsetgroup": "Bengali",
         "orientation": "v",
         "showlegend": true,
         "textposition": "auto",
         "type": "bar",
         "x": [
          "Bengali"
         ],
         "xaxis": "x",
         "y": [
          97
         ],
         "yaxis": "y"
        },
        {
         "alignmentgroup": "True",
         "hovertemplate": "Cuisines=%{x}<br>Count=%{y}<extra></extra>",
         "legendgroup": "Pizza",
         "marker": {
          "color": "#19d3f3",
          "pattern": {
           "shape": ""
          }
         },
         "name": "Pizza",
         "offsetgroup": "Pizza",
         "orientation": "v",
         "showlegend": true,
         "textposition": "auto",
         "type": "bar",
         "x": [
          "Pizza"
         ],
         "xaxis": "x",
         "y": [
          86
         ],
         "yaxis": "y"
        },
        {
         "alignmentgroup": "True",
         "hovertemplate": "Cuisines=%{x}<br>Count=%{y}<extra></extra>",
         "legendgroup": "Cafe",
         "marker": {
          "color": "#FF6692",
          "pattern": {
           "shape": ""
          }
         },
         "name": "Cafe",
         "offsetgroup": "Cafe",
         "orientation": "v",
         "showlegend": true,
         "textposition": "auto",
         "type": "bar",
         "x": [
          "Cafe"
         ],
         "xaxis": "x",
         "y": [
          78
         ],
         "yaxis": "y"
        },
        {
         "alignmentgroup": "True",
         "hovertemplate": "Cuisines=%{x}<br>Count=%{y}<extra></extra>",
         "legendgroup": "Continental",
         "marker": {
          "color": "#B6E880",
          "pattern": {
           "shape": ""
          }
         },
         "name": "Continental",
         "offsetgroup": "Continental",
         "orientation": "v",
         "showlegend": true,
         "textposition": "auto",
         "type": "bar",
         "x": [
          "Continental"
         ],
         "xaxis": "x",
         "y": [
          58
         ],
         "yaxis": "y"
        },
        {
         "alignmentgroup": "True",
         "hovertemplate": "Cuisines=%{x}<br>Count=%{y}<extra></extra>",
         "legendgroup": "South Indian",
         "marker": {
          "color": "#FF97FF",
          "pattern": {
           "shape": ""
          }
         },
         "name": "South Indian",
         "offsetgroup": "South Indian",
         "orientation": "v",
         "showlegend": true,
         "textposition": "auto",
         "type": "bar",
         "x": [
          "South Indian"
         ],
         "xaxis": "x",
         "y": [
          57
         ],
         "yaxis": "y"
        },
        {
         "alignmentgroup": "True",
         "hovertemplate": "Cuisines=%{x}<br>Count=%{y}<extra></extra>",
         "legendgroup": "Burger",
         "marker": {
          "color": "#FECB52",
          "pattern": {
           "shape": ""
          }
         },
         "name": "Burger",
         "offsetgroup": "Burger",
         "orientation": "v",
         "showlegend": true,
         "textposition": "auto",
         "type": "bar",
         "x": [
          "Burger"
         ],
         "xaxis": "x",
         "y": [
          47
         ],
         "yaxis": "y"
        },
        {
         "alignmentgroup": "True",
         "hovertemplate": "Cuisines=%{x}<br>Count=%{y}<extra></extra>",
         "legendgroup": "Sandwich",
         "marker": {
          "color": "#636efa",
          "pattern": {
           "shape": ""
          }
         },
         "name": "Sandwich",
         "offsetgroup": "Sandwich",
         "orientation": "v",
         "showlegend": true,
         "textposition": "auto",
         "type": "bar",
         "x": [
          "Sandwich"
         ],
         "xaxis": "x",
         "y": [
          44
         ],
         "yaxis": "y"
        },
        {
         "alignmentgroup": "True",
         "hovertemplate": "Cuisines=%{x}<br>Count=%{y}<extra></extra>",
         "legendgroup": "Street Food",
         "marker": {
          "color": "#EF553B",
          "pattern": {
           "shape": ""
          }
         },
         "name": "Street Food",
         "offsetgroup": "Street Food",
         "orientation": "v",
         "showlegend": true,
         "textposition": "auto",
         "type": "bar",
         "x": [
          "Street Food"
         ],
         "xaxis": "x",
         "y": [
          40
         ],
         "yaxis": "y"
        },
        {
         "alignmentgroup": "True",
         "hovertemplate": "Cuisines=%{x}<br>Count=%{y}<extra></extra>",
         "legendgroup": "Beverages",
         "marker": {
          "color": "#00cc96",
          "pattern": {
           "shape": ""
          }
         },
         "name": "Beverages",
         "offsetgroup": "Beverages",
         "orientation": "v",
         "showlegend": true,
         "textposition": "auto",
         "type": "bar",
         "x": [
          "Beverages"
         ],
         "xaxis": "x",
         "y": [
          36
         ],
         "yaxis": "y"
        },
        {
         "alignmentgroup": "True",
         "hovertemplate": "Cuisines=%{x}<br>Count=%{y}<extra></extra>",
         "legendgroup": "Bakery",
         "marker": {
          "color": "#ab63fa",
          "pattern": {
           "shape": ""
          }
         },
         "name": "Bakery",
         "offsetgroup": "Bakery",
         "orientation": "v",
         "showlegend": true,
         "textposition": "auto",
         "type": "bar",
         "x": [
          "Bakery"
         ],
         "xaxis": "x",
         "y": [
          35
         ],
         "yaxis": "y"
        },
        {
         "alignmentgroup": "True",
         "hovertemplate": "Cuisines=%{x}<br>Count=%{y}<extra></extra>",
         "legendgroup": "Italian",
         "marker": {
          "color": "#FFA15A",
          "pattern": {
           "shape": ""
          }
         },
         "name": "Italian",
         "offsetgroup": "Italian",
         "orientation": "v",
         "showlegend": true,
         "textposition": "auto",
         "type": "bar",
         "x": [
          "Italian"
         ],
         "xaxis": "x",
         "y": [
          33
         ],
         "yaxis": "y"
        },
        {
         "alignmentgroup": "True",
         "hovertemplate": "Cuisines=%{x}<br>Count=%{y}<extra></extra>",
         "legendgroup": "Rolls",
         "marker": {
          "color": "#19d3f3",
          "pattern": {
           "shape": ""
          }
         },
         "name": "Rolls",
         "offsetgroup": "Rolls",
         "orientation": "v",
         "showlegend": true,
         "textposition": "auto",
         "type": "bar",
         "x": [
          "Rolls"
         ],
         "xaxis": "x",
         "y": [
          33
         ],
         "yaxis": "y"
        },
        {
         "alignmentgroup": "True",
         "hovertemplate": "Cuisines=%{x}<br>Count=%{y}<extra></extra>",
         "legendgroup": "Mishti",
         "marker": {
          "color": "#FF6692",
          "pattern": {
           "shape": ""
          }
         },
         "name": "Mishti",
         "offsetgroup": "Mishti",
         "orientation": "v",
         "showlegend": true,
         "textposition": "auto",
         "type": "bar",
         "x": [
          "Mishti"
         ],
         "xaxis": "x",
         "y": [
          27
         ],
         "yaxis": "y"
        },
        {
         "alignmentgroup": "True",
         "hovertemplate": "Cuisines=%{x}<br>Count=%{y}<extra></extra>",
         "legendgroup": "Asian",
         "marker": {
          "color": "#B6E880",
          "pattern": {
           "shape": ""
          }
         },
         "name": "Asian",
         "offsetgroup": "Asian",
         "orientation": "v",
         "showlegend": true,
         "textposition": "auto",
         "type": "bar",
         "x": [
          "Asian"
         ],
         "xaxis": "x",
         "y": [
          24
         ],
         "yaxis": "y"
        },
        {
         "alignmentgroup": "True",
         "hovertemplate": "Cuisines=%{x}<br>Count=%{y}<extra></extra>",
         "legendgroup": "Kebab",
         "marker": {
          "color": "#FF97FF",
          "pattern": {
           "shape": ""
          }
         },
         "name": "Kebab",
         "offsetgroup": "Kebab",
         "orientation": "v",
         "showlegend": true,
         "textposition": "auto",
         "type": "bar",
         "x": [
          "Kebab"
         ],
         "xaxis": "x",
         "y": [
          24
         ],
         "yaxis": "y"
        },
        {
         "alignmentgroup": "True",
         "hovertemplate": "Cuisines=%{x}<br>Count=%{y}<extra></extra>",
         "legendgroup": "Mughlai",
         "marker": {
          "color": "#FECB52",
          "pattern": {
           "shape": ""
          }
         },
         "name": "Mughlai",
         "offsetgroup": "Mughlai",
         "orientation": "v",
         "showlegend": true,
         "textposition": "auto",
         "type": "bar",
         "x": [
          "Mughlai"
         ],
         "xaxis": "x",
         "y": [
          23
         ],
         "yaxis": "y"
        }
       ],
       "layout": {
        "barmode": "relative",
        "height": 500,
        "legend": {
         "title": {
          "text": "Cuisines"
         },
         "tracegroupgap": 0
        },
        "margin": {
         "t": 60
        },
        "showlegend": false,
        "template": {
         "data": {
          "bar": [
           {
            "error_x": {
             "color": "#2a3f5f"
            },
            "error_y": {
             "color": "#2a3f5f"
            },
            "marker": {
             "line": {
              "color": "#E5ECF6",
              "width": 0.5
             },
             "pattern": {
              "fillmode": "overlay",
              "size": 10,
              "solidity": 0.2
             }
            },
            "type": "bar"
           }
          ],
          "barpolar": [
           {
            "marker": {
             "line": {
              "color": "#E5ECF6",
              "width": 0.5
             },
             "pattern": {
              "fillmode": "overlay",
              "size": 10,
              "solidity": 0.2
             }
            },
            "type": "barpolar"
           }
          ],
          "carpet": [
           {
            "aaxis": {
             "endlinecolor": "#2a3f5f",
             "gridcolor": "white",
             "linecolor": "white",
             "minorgridcolor": "white",
             "startlinecolor": "#2a3f5f"
            },
            "baxis": {
             "endlinecolor": "#2a3f5f",
             "gridcolor": "white",
             "linecolor": "white",
             "minorgridcolor": "white",
             "startlinecolor": "#2a3f5f"
            },
            "type": "carpet"
           }
          ],
          "choropleth": [
           {
            "colorbar": {
             "outlinewidth": 0,
             "ticks": ""
            },
            "type": "choropleth"
           }
          ],
          "contour": [
           {
            "colorbar": {
             "outlinewidth": 0,
             "ticks": ""
            },
            "colorscale": [
             [
              0,
              "#0d0887"
             ],
             [
              0.1111111111111111,
              "#46039f"
             ],
             [
              0.2222222222222222,
              "#7201a8"
             ],
             [
              0.3333333333333333,
              "#9c179e"
             ],
             [
              0.4444444444444444,
              "#bd3786"
             ],
             [
              0.5555555555555556,
              "#d8576b"
             ],
             [
              0.6666666666666666,
              "#ed7953"
             ],
             [
              0.7777777777777778,
              "#fb9f3a"
             ],
             [
              0.8888888888888888,
              "#fdca26"
             ],
             [
              1,
              "#f0f921"
             ]
            ],
            "type": "contour"
           }
          ],
          "contourcarpet": [
           {
            "colorbar": {
             "outlinewidth": 0,
             "ticks": ""
            },
            "type": "contourcarpet"
           }
          ],
          "heatmap": [
           {
            "colorbar": {
             "outlinewidth": 0,
             "ticks": ""
            },
            "colorscale": [
             [
              0,
              "#0d0887"
             ],
             [
              0.1111111111111111,
              "#46039f"
             ],
             [
              0.2222222222222222,
              "#7201a8"
             ],
             [
              0.3333333333333333,
              "#9c179e"
             ],
             [
              0.4444444444444444,
              "#bd3786"
             ],
             [
              0.5555555555555556,
              "#d8576b"
             ],
             [
              0.6666666666666666,
              "#ed7953"
             ],
             [
              0.7777777777777778,
              "#fb9f3a"
             ],
             [
              0.8888888888888888,
              "#fdca26"
             ],
             [
              1,
              "#f0f921"
             ]
            ],
            "type": "heatmap"
           }
          ],
          "heatmapgl": [
           {
            "colorbar": {
             "outlinewidth": 0,
             "ticks": ""
            },
            "colorscale": [
             [
              0,
              "#0d0887"
             ],
             [
              0.1111111111111111,
              "#46039f"
             ],
             [
              0.2222222222222222,
              "#7201a8"
             ],
             [
              0.3333333333333333,
              "#9c179e"
             ],
             [
              0.4444444444444444,
              "#bd3786"
             ],
             [
              0.5555555555555556,
              "#d8576b"
             ],
             [
              0.6666666666666666,
              "#ed7953"
             ],
             [
              0.7777777777777778,
              "#fb9f3a"
             ],
             [
              0.8888888888888888,
              "#fdca26"
             ],
             [
              1,
              "#f0f921"
             ]
            ],
            "type": "heatmapgl"
           }
          ],
          "histogram": [
           {
            "marker": {
             "pattern": {
              "fillmode": "overlay",
              "size": 10,
              "solidity": 0.2
             }
            },
            "type": "histogram"
           }
          ],
          "histogram2d": [
           {
            "colorbar": {
             "outlinewidth": 0,
             "ticks": ""
            },
            "colorscale": [
             [
              0,
              "#0d0887"
             ],
             [
              0.1111111111111111,
              "#46039f"
             ],
             [
              0.2222222222222222,
              "#7201a8"
             ],
             [
              0.3333333333333333,
              "#9c179e"
             ],
             [
              0.4444444444444444,
              "#bd3786"
             ],
             [
              0.5555555555555556,
              "#d8576b"
             ],
             [
              0.6666666666666666,
              "#ed7953"
             ],
             [
              0.7777777777777778,
              "#fb9f3a"
             ],
             [
              0.8888888888888888,
              "#fdca26"
             ],
             [
              1,
              "#f0f921"
             ]
            ],
            "type": "histogram2d"
           }
          ],
          "histogram2dcontour": [
           {
            "colorbar": {
             "outlinewidth": 0,
             "ticks": ""
            },
            "colorscale": [
             [
              0,
              "#0d0887"
             ],
             [
              0.1111111111111111,
              "#46039f"
             ],
             [
              0.2222222222222222,
              "#7201a8"
             ],
             [
              0.3333333333333333,
              "#9c179e"
             ],
             [
              0.4444444444444444,
              "#bd3786"
             ],
             [
              0.5555555555555556,
              "#d8576b"
             ],
             [
              0.6666666666666666,
              "#ed7953"
             ],
             [
              0.7777777777777778,
              "#fb9f3a"
             ],
             [
              0.8888888888888888,
              "#fdca26"
             ],
             [
              1,
              "#f0f921"
             ]
            ],
            "type": "histogram2dcontour"
           }
          ],
          "mesh3d": [
           {
            "colorbar": {
             "outlinewidth": 0,
             "ticks": ""
            },
            "type": "mesh3d"
           }
          ],
          "parcoords": [
           {
            "line": {
             "colorbar": {
              "outlinewidth": 0,
              "ticks": ""
             }
            },
            "type": "parcoords"
           }
          ],
          "pie": [
           {
            "automargin": true,
            "type": "pie"
           }
          ],
          "scatter": [
           {
            "fillpattern": {
             "fillmode": "overlay",
             "size": 10,
             "solidity": 0.2
            },
            "type": "scatter"
           }
          ],
          "scatter3d": [
           {
            "line": {
             "colorbar": {
              "outlinewidth": 0,
              "ticks": ""
             }
            },
            "marker": {
             "colorbar": {
              "outlinewidth": 0,
              "ticks": ""
             }
            },
            "type": "scatter3d"
           }
          ],
          "scattercarpet": [
           {
            "marker": {
             "colorbar": {
              "outlinewidth": 0,
              "ticks": ""
             }
            },
            "type": "scattercarpet"
           }
          ],
          "scattergeo": [
           {
            "marker": {
             "colorbar": {
              "outlinewidth": 0,
              "ticks": ""
             }
            },
            "type": "scattergeo"
           }
          ],
          "scattergl": [
           {
            "marker": {
             "colorbar": {
              "outlinewidth": 0,
              "ticks": ""
             }
            },
            "type": "scattergl"
           }
          ],
          "scattermapbox": [
           {
            "marker": {
             "colorbar": {
              "outlinewidth": 0,
              "ticks": ""
             }
            },
            "type": "scattermapbox"
           }
          ],
          "scatterpolar": [
           {
            "marker": {
             "colorbar": {
              "outlinewidth": 0,
              "ticks": ""
             }
            },
            "type": "scatterpolar"
           }
          ],
          "scatterpolargl": [
           {
            "marker": {
             "colorbar": {
              "outlinewidth": 0,
              "ticks": ""
             }
            },
            "type": "scatterpolargl"
           }
          ],
          "scatterternary": [
           {
            "marker": {
             "colorbar": {
              "outlinewidth": 0,
              "ticks": ""
             }
            },
            "type": "scatterternary"
           }
          ],
          "surface": [
           {
            "colorbar": {
             "outlinewidth": 0,
             "ticks": ""
            },
            "colorscale": [
             [
              0,
              "#0d0887"
             ],
             [
              0.1111111111111111,
              "#46039f"
             ],
             [
              0.2222222222222222,
              "#7201a8"
             ],
             [
              0.3333333333333333,
              "#9c179e"
             ],
             [
              0.4444444444444444,
              "#bd3786"
             ],
             [
              0.5555555555555556,
              "#d8576b"
             ],
             [
              0.6666666666666666,
              "#ed7953"
             ],
             [
              0.7777777777777778,
              "#fb9f3a"
             ],
             [
              0.8888888888888888,
              "#fdca26"
             ],
             [
              1,
              "#f0f921"
             ]
            ],
            "type": "surface"
           }
          ],
          "table": [
           {
            "cells": {
             "fill": {
              "color": "#EBF0F8"
             },
             "line": {
              "color": "white"
             }
            },
            "header": {
             "fill": {
              "color": "#C8D4E3"
             },
             "line": {
              "color": "white"
             }
            },
            "type": "table"
           }
          ]
         },
         "layout": {
          "annotationdefaults": {
           "arrowcolor": "#2a3f5f",
           "arrowhead": 0,
           "arrowwidth": 1
          },
          "autotypenumbers": "strict",
          "coloraxis": {
           "colorbar": {
            "outlinewidth": 0,
            "ticks": ""
           }
          },
          "colorscale": {
           "diverging": [
            [
             0,
             "#8e0152"
            ],
            [
             0.1,
             "#c51b7d"
            ],
            [
             0.2,
             "#de77ae"
            ],
            [
             0.3,
             "#f1b6da"
            ],
            [
             0.4,
             "#fde0ef"
            ],
            [
             0.5,
             "#f7f7f7"
            ],
            [
             0.6,
             "#e6f5d0"
            ],
            [
             0.7,
             "#b8e186"
            ],
            [
             0.8,
             "#7fbc41"
            ],
            [
             0.9,
             "#4d9221"
            ],
            [
             1,
             "#276419"
            ]
           ],
           "sequential": [
            [
             0,
             "#0d0887"
            ],
            [
             0.1111111111111111,
             "#46039f"
            ],
            [
             0.2222222222222222,
             "#7201a8"
            ],
            [
             0.3333333333333333,
             "#9c179e"
            ],
            [
             0.4444444444444444,
             "#bd3786"
            ],
            [
             0.5555555555555556,
             "#d8576b"
            ],
            [
             0.6666666666666666,
             "#ed7953"
            ],
            [
             0.7777777777777778,
             "#fb9f3a"
            ],
            [
             0.8888888888888888,
             "#fdca26"
            ],
            [
             1,
             "#f0f921"
            ]
           ],
           "sequentialminus": [
            [
             0,
             "#0d0887"
            ],
            [
             0.1111111111111111,
             "#46039f"
            ],
            [
             0.2222222222222222,
             "#7201a8"
            ],
            [
             0.3333333333333333,
             "#9c179e"
            ],
            [
             0.4444444444444444,
             "#bd3786"
            ],
            [
             0.5555555555555556,
             "#d8576b"
            ],
            [
             0.6666666666666666,
             "#ed7953"
            ],
            [
             0.7777777777777778,
             "#fb9f3a"
            ],
            [
             0.8888888888888888,
             "#fdca26"
            ],
            [
             1,
             "#f0f921"
            ]
           ]
          },
          "colorway": [
           "#636efa",
           "#EF553B",
           "#00cc96",
           "#ab63fa",
           "#FFA15A",
           "#19d3f3",
           "#FF6692",
           "#B6E880",
           "#FF97FF",
           "#FECB52"
          ],
          "font": {
           "color": "#2a3f5f"
          },
          "geo": {
           "bgcolor": "white",
           "lakecolor": "white",
           "landcolor": "#E5ECF6",
           "showlakes": true,
           "showland": true,
           "subunitcolor": "white"
          },
          "hoverlabel": {
           "align": "left"
          },
          "hovermode": "closest",
          "mapbox": {
           "style": "light"
          },
          "paper_bgcolor": "white",
          "plot_bgcolor": "#E5ECF6",
          "polar": {
           "angularaxis": {
            "gridcolor": "white",
            "linecolor": "white",
            "ticks": ""
           },
           "bgcolor": "#E5ECF6",
           "radialaxis": {
            "gridcolor": "white",
            "linecolor": "white",
            "ticks": ""
           }
          },
          "scene": {
           "xaxis": {
            "backgroundcolor": "#E5ECF6",
            "gridcolor": "white",
            "gridwidth": 2,
            "linecolor": "white",
            "showbackground": true,
            "ticks": "",
            "zerolinecolor": "white"
           },
           "yaxis": {
            "backgroundcolor": "#E5ECF6",
            "gridcolor": "white",
            "gridwidth": 2,
            "linecolor": "white",
            "showbackground": true,
            "ticks": "",
            "zerolinecolor": "white"
           },
           "zaxis": {
            "backgroundcolor": "#E5ECF6",
            "gridcolor": "white",
            "gridwidth": 2,
            "linecolor": "white",
            "showbackground": true,
            "ticks": "",
            "zerolinecolor": "white"
           }
          },
          "shapedefaults": {
           "line": {
            "color": "#2a3f5f"
           }
          },
          "ternary": {
           "aaxis": {
            "gridcolor": "white",
            "linecolor": "white",
            "ticks": ""
           },
           "baxis": {
            "gridcolor": "white",
            "linecolor": "white",
            "ticks": ""
           },
           "bgcolor": "#E5ECF6",
           "caxis": {
            "gridcolor": "white",
            "linecolor": "white",
            "ticks": ""
           }
          },
          "title": {
           "x": 0.05
          },
          "xaxis": {
           "automargin": true,
           "gridcolor": "white",
           "linecolor": "white",
           "ticks": "",
           "title": {
            "standoff": 15
           },
           "zerolinecolor": "white",
           "zerolinewidth": 2
          },
          "yaxis": {
           "automargin": true,
           "gridcolor": "white",
           "linecolor": "white",
           "ticks": "",
           "title": {
            "standoff": 15
           },
           "zerolinecolor": "white",
           "zerolinewidth": 2
          }
         }
        },
        "width": 1000,
        "xaxis": {
         "anchor": "y",
         "categoryarray": [
          "Chinese",
          "North Indian",
          "Fast Food",
          "Biryani",
          "Bengali",
          "Pizza",
          "Cafe",
          "Continental",
          "South Indian",
          "Burger",
          "Sandwich",
          "Street Food",
          "Beverages",
          "Bakery",
          "Italian",
          "Rolls",
          "Mishti",
          "Asian",
          "Kebab",
          "Mughlai"
         ],
         "categoryorder": "array",
         "domain": [
          0,
          1
         ],
         "title": {
          "text": "Cuisines"
         }
        },
        "yaxis": {
         "anchor": "x",
         "domain": [
          0,
          1
         ],
         "title": {
          "text": "Count"
         }
        }
       }
      }
     },
     "metadata": {},
     "output_type": "display_data"
    }
   ],
   "source": [
    "# Bar plot showcasing total number of restaurants for each cuisine\n",
    "fig = px.bar(unique_cuisines.head(20),x='Cuisines',y='Count',color='Cuisines',height=500,width=1000)\n",
    "fig.update_layout(showlegend=False)\n",
    "fig.show()"
   ]
  },
  {
   "cell_type": "code",
   "execution_count": 29,
   "id": "aabbd98c",
   "metadata": {},
   "outputs": [],
   "source": [
    "# Cuisine count based on dataset\n",
    "data = new_df['Cuisines'].to_list()\n",
    "namess = ['cuisine']\n",
    "restaurant_counts = pd.DataFrame(data, columns=namess)\n",
    "unique_cuisiness = restaurant_counts['cuisine'].value_counts()"
   ]
  },
  {
   "cell_type": "code",
   "execution_count": 30,
   "id": "3e1aff4b",
   "metadata": {},
   "outputs": [],
   "source": [
    "unique_cuisiness = pd.DataFrame(unique_cuisiness)\n",
    "unique_cuisiness.rename(columns = {'cuisine':'Count'},inplace=True)\n",
    "unique_cuisiness.index.rename('Cuisines',inplace=True)\n",
    "unique_cuisiness.reset_index(inplace=True)"
   ]
  },
  {
   "cell_type": "code",
   "execution_count": 31,
   "id": "adca6899",
   "metadata": {},
   "outputs": [
    {
     "data": {
      "text/html": [
       "<div>\n",
       "<style scoped>\n",
       "    .dataframe tbody tr th:only-of-type {\n",
       "        vertical-align: middle;\n",
       "    }\n",
       "\n",
       "    .dataframe tbody tr th {\n",
       "        vertical-align: top;\n",
       "    }\n",
       "\n",
       "    .dataframe thead th {\n",
       "        text-align: right;\n",
       "    }\n",
       "</style>\n",
       "<table border=\"1\" class=\"dataframe\">\n",
       "  <thead>\n",
       "    <tr style=\"text-align: right;\">\n",
       "      <th></th>\n",
       "      <th>Cuisines</th>\n",
       "      <th>Count</th>\n",
       "    </tr>\n",
       "  </thead>\n",
       "  <tbody>\n",
       "    <tr>\n",
       "      <th>0</th>\n",
       "      <td>Bengali</td>\n",
       "      <td>133</td>\n",
       "    </tr>\n",
       "    <tr>\n",
       "      <th>1</th>\n",
       "      <td>Biryani</td>\n",
       "      <td>125</td>\n",
       "    </tr>\n",
       "    <tr>\n",
       "      <th>2</th>\n",
       "      <td>Chinese</td>\n",
       "      <td>118</td>\n",
       "    </tr>\n",
       "    <tr>\n",
       "      <th>3</th>\n",
       "      <td>North Indian</td>\n",
       "      <td>79</td>\n",
       "    </tr>\n",
       "    <tr>\n",
       "      <th>4</th>\n",
       "      <td>Bakery, Desserts</td>\n",
       "      <td>78</td>\n",
       "    </tr>\n",
       "    <tr>\n",
       "      <th>...</th>\n",
       "      <td>...</td>\n",
       "      <td>...</td>\n",
       "    </tr>\n",
       "    <tr>\n",
       "      <th>2005</th>\n",
       "      <td>Bengali, Chinese, Biryani, North Indian</td>\n",
       "      <td>1</td>\n",
       "    </tr>\n",
       "    <tr>\n",
       "      <th>2006</th>\n",
       "      <td>North Indian, Chinese, Continental, Beverages,...</td>\n",
       "      <td>1</td>\n",
       "    </tr>\n",
       "    <tr>\n",
       "      <th>2007</th>\n",
       "      <td>Biryani, North Indian, Rolls, Mughlai</td>\n",
       "      <td>1</td>\n",
       "    </tr>\n",
       "    <tr>\n",
       "      <th>2008</th>\n",
       "      <td>Sandwich, Fast Food, Tea, Beverages</td>\n",
       "      <td>1</td>\n",
       "    </tr>\n",
       "    <tr>\n",
       "      <th>2009</th>\n",
       "      <td>Chinese, Bengali, South Indian</td>\n",
       "      <td>1</td>\n",
       "    </tr>\n",
       "  </tbody>\n",
       "</table>\n",
       "<p>2010 rows × 2 columns</p>\n",
       "</div>"
      ],
      "text/plain": [
       "                                               Cuisines  Count\n",
       "0                                               Bengali    133\n",
       "1                                               Biryani    125\n",
       "2                                               Chinese    118\n",
       "3                                          North Indian     79\n",
       "4                                      Bakery, Desserts     78\n",
       "...                                                 ...    ...\n",
       "2005            Bengali, Chinese, Biryani, North Indian      1\n",
       "2006  North Indian, Chinese, Continental, Beverages,...      1\n",
       "2007              Biryani, North Indian, Rolls, Mughlai      1\n",
       "2008                Sandwich, Fast Food, Tea, Beverages      1\n",
       "2009                     Chinese, Bengali, South Indian      1\n",
       "\n",
       "[2010 rows x 2 columns]"
      ]
     },
     "execution_count": 31,
     "metadata": {},
     "output_type": "execute_result"
    }
   ],
   "source": [
    "unique_cuisiness"
   ]
  },
  {
   "cell_type": "code",
   "execution_count": 32,
   "id": "bca3f9fa",
   "metadata": {},
   "outputs": [
    {
     "data": {
      "application/vnd.plotly.v1+json": {
       "config": {
        "plotlyServerURL": "https://plot.ly"
       },
       "data": [
        {
         "alignmentgroup": "True",
         "hovertemplate": "Cuisines=%{x}<br>Count=%{y}<extra></extra>",
         "legendgroup": "Bengali",
         "marker": {
          "color": "#636efa",
          "pattern": {
           "shape": ""
          }
         },
         "name": "Bengali",
         "offsetgroup": "Bengali",
         "orientation": "v",
         "showlegend": true,
         "textposition": "auto",
         "type": "bar",
         "x": [
          "Bengali"
         ],
         "xaxis": "x",
         "y": [
          133
         ],
         "yaxis": "y"
        },
        {
         "alignmentgroup": "True",
         "hovertemplate": "Cuisines=%{x}<br>Count=%{y}<extra></extra>",
         "legendgroup": "Biryani",
         "marker": {
          "color": "#EF553B",
          "pattern": {
           "shape": ""
          }
         },
         "name": "Biryani",
         "offsetgroup": "Biryani",
         "orientation": "v",
         "showlegend": true,
         "textposition": "auto",
         "type": "bar",
         "x": [
          "Biryani"
         ],
         "xaxis": "x",
         "y": [
          125
         ],
         "yaxis": "y"
        },
        {
         "alignmentgroup": "True",
         "hovertemplate": "Cuisines=%{x}<br>Count=%{y}<extra></extra>",
         "legendgroup": "Chinese",
         "marker": {
          "color": "#00cc96",
          "pattern": {
           "shape": ""
          }
         },
         "name": "Chinese",
         "offsetgroup": "Chinese",
         "orientation": "v",
         "showlegend": true,
         "textposition": "auto",
         "type": "bar",
         "x": [
          "Chinese"
         ],
         "xaxis": "x",
         "y": [
          118
         ],
         "yaxis": "y"
        },
        {
         "alignmentgroup": "True",
         "hovertemplate": "Cuisines=%{x}<br>Count=%{y}<extra></extra>",
         "legendgroup": "North Indian",
         "marker": {
          "color": "#ab63fa",
          "pattern": {
           "shape": ""
          }
         },
         "name": "North Indian",
         "offsetgroup": "North Indian",
         "orientation": "v",
         "showlegend": true,
         "textposition": "auto",
         "type": "bar",
         "x": [
          "North Indian"
         ],
         "xaxis": "x",
         "y": [
          79
         ],
         "yaxis": "y"
        },
        {
         "alignmentgroup": "True",
         "hovertemplate": "Cuisines=%{x}<br>Count=%{y}<extra></extra>",
         "legendgroup": "Bakery, Desserts",
         "marker": {
          "color": "#FFA15A",
          "pattern": {
           "shape": ""
          }
         },
         "name": "Bakery, Desserts",
         "offsetgroup": "Bakery, Desserts",
         "orientation": "v",
         "showlegend": true,
         "textposition": "auto",
         "type": "bar",
         "x": [
          "Bakery, Desserts"
         ],
         "xaxis": "x",
         "y": [
          78
         ],
         "yaxis": "y"
        },
        {
         "alignmentgroup": "True",
         "hovertemplate": "Cuisines=%{x}<br>Count=%{y}<extra></extra>",
         "legendgroup": "North Indian, Chinese",
         "marker": {
          "color": "#19d3f3",
          "pattern": {
           "shape": ""
          }
         },
         "name": "North Indian, Chinese",
         "offsetgroup": "North Indian, Chinese",
         "orientation": "v",
         "showlegend": true,
         "textposition": "auto",
         "type": "bar",
         "x": [
          "North Indian, Chinese"
         ],
         "xaxis": "x",
         "y": [
          76
         ],
         "yaxis": "y"
        },
        {
         "alignmentgroup": "True",
         "hovertemplate": "Cuisines=%{x}<br>Count=%{y}<extra></extra>",
         "legendgroup": "Fast Food",
         "marker": {
          "color": "#FF6692",
          "pattern": {
           "shape": ""
          }
         },
         "name": "Fast Food",
         "offsetgroup": "Fast Food",
         "orientation": "v",
         "showlegend": true,
         "textposition": "auto",
         "type": "bar",
         "x": [
          "Fast Food"
         ],
         "xaxis": "x",
         "y": [
          72
         ],
         "yaxis": "y"
        },
        {
         "alignmentgroup": "True",
         "hovertemplate": "Cuisines=%{x}<br>Count=%{y}<extra></extra>",
         "legendgroup": "Ice Cream, Desserts",
         "marker": {
          "color": "#B6E880",
          "pattern": {
           "shape": ""
          }
         },
         "name": "Ice Cream, Desserts",
         "offsetgroup": "Ice Cream, Desserts",
         "orientation": "v",
         "showlegend": true,
         "textposition": "auto",
         "type": "bar",
         "x": [
          "Ice Cream, Desserts"
         ],
         "xaxis": "x",
         "y": [
          72
         ],
         "yaxis": "y"
        },
        {
         "alignmentgroup": "True",
         "hovertemplate": "Cuisines=%{x}<br>Count=%{y}<extra></extra>",
         "legendgroup": "Biryani, North Indian",
         "marker": {
          "color": "#FF97FF",
          "pattern": {
           "shape": ""
          }
         },
         "name": "Biryani, North Indian",
         "offsetgroup": "Biryani, North Indian",
         "orientation": "v",
         "showlegend": true,
         "textposition": "auto",
         "type": "bar",
         "x": [
          "Biryani, North Indian"
         ],
         "xaxis": "x",
         "y": [
          69
         ],
         "yaxis": "y"
        },
        {
         "alignmentgroup": "True",
         "hovertemplate": "Cuisines=%{x}<br>Count=%{y}<extra></extra>",
         "legendgroup": "South Indian",
         "marker": {
          "color": "#FECB52",
          "pattern": {
           "shape": ""
          }
         },
         "name": "South Indian",
         "offsetgroup": "South Indian",
         "orientation": "v",
         "showlegend": true,
         "textposition": "auto",
         "type": "bar",
         "x": [
          "South Indian"
         ],
         "xaxis": "x",
         "y": [
          68
         ],
         "yaxis": "y"
        },
        {
         "alignmentgroup": "True",
         "hovertemplate": "Cuisines=%{x}<br>Count=%{y}<extra></extra>",
         "legendgroup": "Chinese, Fast Food",
         "marker": {
          "color": "#636efa",
          "pattern": {
           "shape": ""
          }
         },
         "name": "Chinese, Fast Food",
         "offsetgroup": "Chinese, Fast Food",
         "orientation": "v",
         "showlegend": true,
         "textposition": "auto",
         "type": "bar",
         "x": [
          "Chinese, Fast Food"
         ],
         "xaxis": "x",
         "y": [
          54
         ],
         "yaxis": "y"
        },
        {
         "alignmentgroup": "True",
         "hovertemplate": "Cuisines=%{x}<br>Count=%{y}<extra></extra>",
         "legendgroup": "Chinese, North Indian",
         "marker": {
          "color": "#EF553B",
          "pattern": {
           "shape": ""
          }
         },
         "name": "Chinese, North Indian",
         "offsetgroup": "Chinese, North Indian",
         "orientation": "v",
         "showlegend": true,
         "textposition": "auto",
         "type": "bar",
         "x": [
          "Chinese, North Indian"
         ],
         "xaxis": "x",
         "y": [
          43
         ],
         "yaxis": "y"
        },
        {
         "alignmentgroup": "True",
         "hovertemplate": "Cuisines=%{x}<br>Count=%{y}<extra></extra>",
         "legendgroup": "Ice Cream, Desserts, Beverages",
         "marker": {
          "color": "#00cc96",
          "pattern": {
           "shape": ""
          }
         },
         "name": "Ice Cream, Desserts, Beverages",
         "offsetgroup": "Ice Cream, Desserts, Beverages",
         "orientation": "v",
         "showlegend": true,
         "textposition": "auto",
         "type": "bar",
         "x": [
          "Ice Cream, Desserts, Beverages"
         ],
         "xaxis": "x",
         "y": [
          40
         ],
         "yaxis": "y"
        },
        {
         "alignmentgroup": "True",
         "hovertemplate": "Cuisines=%{x}<br>Count=%{y}<extra></extra>",
         "legendgroup": "Bakery, Desserts, Fast Food",
         "marker": {
          "color": "#ab63fa",
          "pattern": {
           "shape": ""
          }
         },
         "name": "Bakery, Desserts, Fast Food",
         "offsetgroup": "Bakery, Desserts, Fast Food",
         "orientation": "v",
         "showlegend": true,
         "textposition": "auto",
         "type": "bar",
         "x": [
          "Bakery, Desserts, Fast Food"
         ],
         "xaxis": "x",
         "y": [
          38
         ],
         "yaxis": "y"
        },
        {
         "alignmentgroup": "True",
         "hovertemplate": "Cuisines=%{x}<br>Count=%{y}<extra></extra>",
         "legendgroup": "Bakery",
         "marker": {
          "color": "#FFA15A",
          "pattern": {
           "shape": ""
          }
         },
         "name": "Bakery",
         "offsetgroup": "Bakery",
         "orientation": "v",
         "showlegend": true,
         "textposition": "auto",
         "type": "bar",
         "x": [
          "Bakery"
         ],
         "xaxis": "x",
         "y": [
          32
         ],
         "yaxis": "y"
        },
        {
         "alignmentgroup": "True",
         "hovertemplate": "Cuisines=%{x}<br>Count=%{y}<extra></extra>",
         "legendgroup": "Mishti",
         "marker": {
          "color": "#19d3f3",
          "pattern": {
           "shape": ""
          }
         },
         "name": "Mishti",
         "offsetgroup": "Mishti",
         "orientation": "v",
         "showlegend": true,
         "textposition": "auto",
         "type": "bar",
         "x": [
          "Mishti"
         ],
         "xaxis": "x",
         "y": [
          31
         ],
         "yaxis": "y"
        },
        {
         "alignmentgroup": "True",
         "hovertemplate": "Cuisines=%{x}<br>Count=%{y}<extra></extra>",
         "legendgroup": "Street Food",
         "marker": {
          "color": "#FF6692",
          "pattern": {
           "shape": ""
          }
         },
         "name": "Street Food",
         "offsetgroup": "Street Food",
         "orientation": "v",
         "showlegend": true,
         "textposition": "auto",
         "type": "bar",
         "x": [
          "Street Food"
         ],
         "xaxis": "x",
         "y": [
          29
         ],
         "yaxis": "y"
        },
        {
         "alignmentgroup": "True",
         "hovertemplate": "Cuisines=%{x}<br>Count=%{y}<extra></extra>",
         "legendgroup": "Bengali, North Indian",
         "marker": {
          "color": "#B6E880",
          "pattern": {
           "shape": ""
          }
         },
         "name": "Bengali, North Indian",
         "offsetgroup": "Bengali, North Indian",
         "orientation": "v",
         "showlegend": true,
         "textposition": "auto",
         "type": "bar",
         "x": [
          "Bengali, North Indian"
         ],
         "xaxis": "x",
         "y": [
          29
         ],
         "yaxis": "y"
        },
        {
         "alignmentgroup": "True",
         "hovertemplate": "Cuisines=%{x}<br>Count=%{y}<extra></extra>",
         "legendgroup": "Bengali, Chinese",
         "marker": {
          "color": "#FF97FF",
          "pattern": {
           "shape": ""
          }
         },
         "name": "Bengali, Chinese",
         "offsetgroup": "Bengali, Chinese",
         "orientation": "v",
         "showlegend": true,
         "textposition": "auto",
         "type": "bar",
         "x": [
          "Bengali, Chinese"
         ],
         "xaxis": "x",
         "y": [
          25
         ],
         "yaxis": "y"
        },
        {
         "alignmentgroup": "True",
         "hovertemplate": "Cuisines=%{x}<br>Count=%{y}<extra></extra>",
         "legendgroup": "Chinese, Momos",
         "marker": {
          "color": "#FECB52",
          "pattern": {
           "shape": ""
          }
         },
         "name": "Chinese, Momos",
         "offsetgroup": "Chinese, Momos",
         "orientation": "v",
         "showlegend": true,
         "textposition": "auto",
         "type": "bar",
         "x": [
          "Chinese, Momos"
         ],
         "xaxis": "x",
         "y": [
          23
         ],
         "yaxis": "y"
        }
       ],
       "layout": {
        "barmode": "relative",
        "height": 500,
        "legend": {
         "title": {
          "text": "Cuisines"
         },
         "tracegroupgap": 0
        },
        "margin": {
         "t": 60
        },
        "showlegend": false,
        "template": {
         "data": {
          "bar": [
           {
            "error_x": {
             "color": "#2a3f5f"
            },
            "error_y": {
             "color": "#2a3f5f"
            },
            "marker": {
             "line": {
              "color": "#E5ECF6",
              "width": 0.5
             },
             "pattern": {
              "fillmode": "overlay",
              "size": 10,
              "solidity": 0.2
             }
            },
            "type": "bar"
           }
          ],
          "barpolar": [
           {
            "marker": {
             "line": {
              "color": "#E5ECF6",
              "width": 0.5
             },
             "pattern": {
              "fillmode": "overlay",
              "size": 10,
              "solidity": 0.2
             }
            },
            "type": "barpolar"
           }
          ],
          "carpet": [
           {
            "aaxis": {
             "endlinecolor": "#2a3f5f",
             "gridcolor": "white",
             "linecolor": "white",
             "minorgridcolor": "white",
             "startlinecolor": "#2a3f5f"
            },
            "baxis": {
             "endlinecolor": "#2a3f5f",
             "gridcolor": "white",
             "linecolor": "white",
             "minorgridcolor": "white",
             "startlinecolor": "#2a3f5f"
            },
            "type": "carpet"
           }
          ],
          "choropleth": [
           {
            "colorbar": {
             "outlinewidth": 0,
             "ticks": ""
            },
            "type": "choropleth"
           }
          ],
          "contour": [
           {
            "colorbar": {
             "outlinewidth": 0,
             "ticks": ""
            },
            "colorscale": [
             [
              0,
              "#0d0887"
             ],
             [
              0.1111111111111111,
              "#46039f"
             ],
             [
              0.2222222222222222,
              "#7201a8"
             ],
             [
              0.3333333333333333,
              "#9c179e"
             ],
             [
              0.4444444444444444,
              "#bd3786"
             ],
             [
              0.5555555555555556,
              "#d8576b"
             ],
             [
              0.6666666666666666,
              "#ed7953"
             ],
             [
              0.7777777777777778,
              "#fb9f3a"
             ],
             [
              0.8888888888888888,
              "#fdca26"
             ],
             [
              1,
              "#f0f921"
             ]
            ],
            "type": "contour"
           }
          ],
          "contourcarpet": [
           {
            "colorbar": {
             "outlinewidth": 0,
             "ticks": ""
            },
            "type": "contourcarpet"
           }
          ],
          "heatmap": [
           {
            "colorbar": {
             "outlinewidth": 0,
             "ticks": ""
            },
            "colorscale": [
             [
              0,
              "#0d0887"
             ],
             [
              0.1111111111111111,
              "#46039f"
             ],
             [
              0.2222222222222222,
              "#7201a8"
             ],
             [
              0.3333333333333333,
              "#9c179e"
             ],
             [
              0.4444444444444444,
              "#bd3786"
             ],
             [
              0.5555555555555556,
              "#d8576b"
             ],
             [
              0.6666666666666666,
              "#ed7953"
             ],
             [
              0.7777777777777778,
              "#fb9f3a"
             ],
             [
              0.8888888888888888,
              "#fdca26"
             ],
             [
              1,
              "#f0f921"
             ]
            ],
            "type": "heatmap"
           }
          ],
          "heatmapgl": [
           {
            "colorbar": {
             "outlinewidth": 0,
             "ticks": ""
            },
            "colorscale": [
             [
              0,
              "#0d0887"
             ],
             [
              0.1111111111111111,
              "#46039f"
             ],
             [
              0.2222222222222222,
              "#7201a8"
             ],
             [
              0.3333333333333333,
              "#9c179e"
             ],
             [
              0.4444444444444444,
              "#bd3786"
             ],
             [
              0.5555555555555556,
              "#d8576b"
             ],
             [
              0.6666666666666666,
              "#ed7953"
             ],
             [
              0.7777777777777778,
              "#fb9f3a"
             ],
             [
              0.8888888888888888,
              "#fdca26"
             ],
             [
              1,
              "#f0f921"
             ]
            ],
            "type": "heatmapgl"
           }
          ],
          "histogram": [
           {
            "marker": {
             "pattern": {
              "fillmode": "overlay",
              "size": 10,
              "solidity": 0.2
             }
            },
            "type": "histogram"
           }
          ],
          "histogram2d": [
           {
            "colorbar": {
             "outlinewidth": 0,
             "ticks": ""
            },
            "colorscale": [
             [
              0,
              "#0d0887"
             ],
             [
              0.1111111111111111,
              "#46039f"
             ],
             [
              0.2222222222222222,
              "#7201a8"
             ],
             [
              0.3333333333333333,
              "#9c179e"
             ],
             [
              0.4444444444444444,
              "#bd3786"
             ],
             [
              0.5555555555555556,
              "#d8576b"
             ],
             [
              0.6666666666666666,
              "#ed7953"
             ],
             [
              0.7777777777777778,
              "#fb9f3a"
             ],
             [
              0.8888888888888888,
              "#fdca26"
             ],
             [
              1,
              "#f0f921"
             ]
            ],
            "type": "histogram2d"
           }
          ],
          "histogram2dcontour": [
           {
            "colorbar": {
             "outlinewidth": 0,
             "ticks": ""
            },
            "colorscale": [
             [
              0,
              "#0d0887"
             ],
             [
              0.1111111111111111,
              "#46039f"
             ],
             [
              0.2222222222222222,
              "#7201a8"
             ],
             [
              0.3333333333333333,
              "#9c179e"
             ],
             [
              0.4444444444444444,
              "#bd3786"
             ],
             [
              0.5555555555555556,
              "#d8576b"
             ],
             [
              0.6666666666666666,
              "#ed7953"
             ],
             [
              0.7777777777777778,
              "#fb9f3a"
             ],
             [
              0.8888888888888888,
              "#fdca26"
             ],
             [
              1,
              "#f0f921"
             ]
            ],
            "type": "histogram2dcontour"
           }
          ],
          "mesh3d": [
           {
            "colorbar": {
             "outlinewidth": 0,
             "ticks": ""
            },
            "type": "mesh3d"
           }
          ],
          "parcoords": [
           {
            "line": {
             "colorbar": {
              "outlinewidth": 0,
              "ticks": ""
             }
            },
            "type": "parcoords"
           }
          ],
          "pie": [
           {
            "automargin": true,
            "type": "pie"
           }
          ],
          "scatter": [
           {
            "fillpattern": {
             "fillmode": "overlay",
             "size": 10,
             "solidity": 0.2
            },
            "type": "scatter"
           }
          ],
          "scatter3d": [
           {
            "line": {
             "colorbar": {
              "outlinewidth": 0,
              "ticks": ""
             }
            },
            "marker": {
             "colorbar": {
              "outlinewidth": 0,
              "ticks": ""
             }
            },
            "type": "scatter3d"
           }
          ],
          "scattercarpet": [
           {
            "marker": {
             "colorbar": {
              "outlinewidth": 0,
              "ticks": ""
             }
            },
            "type": "scattercarpet"
           }
          ],
          "scattergeo": [
           {
            "marker": {
             "colorbar": {
              "outlinewidth": 0,
              "ticks": ""
             }
            },
            "type": "scattergeo"
           }
          ],
          "scattergl": [
           {
            "marker": {
             "colorbar": {
              "outlinewidth": 0,
              "ticks": ""
             }
            },
            "type": "scattergl"
           }
          ],
          "scattermapbox": [
           {
            "marker": {
             "colorbar": {
              "outlinewidth": 0,
              "ticks": ""
             }
            },
            "type": "scattermapbox"
           }
          ],
          "scatterpolar": [
           {
            "marker": {
             "colorbar": {
              "outlinewidth": 0,
              "ticks": ""
             }
            },
            "type": "scatterpolar"
           }
          ],
          "scatterpolargl": [
           {
            "marker": {
             "colorbar": {
              "outlinewidth": 0,
              "ticks": ""
             }
            },
            "type": "scatterpolargl"
           }
          ],
          "scatterternary": [
           {
            "marker": {
             "colorbar": {
              "outlinewidth": 0,
              "ticks": ""
             }
            },
            "type": "scatterternary"
           }
          ],
          "surface": [
           {
            "colorbar": {
             "outlinewidth": 0,
             "ticks": ""
            },
            "colorscale": [
             [
              0,
              "#0d0887"
             ],
             [
              0.1111111111111111,
              "#46039f"
             ],
             [
              0.2222222222222222,
              "#7201a8"
             ],
             [
              0.3333333333333333,
              "#9c179e"
             ],
             [
              0.4444444444444444,
              "#bd3786"
             ],
             [
              0.5555555555555556,
              "#d8576b"
             ],
             [
              0.6666666666666666,
              "#ed7953"
             ],
             [
              0.7777777777777778,
              "#fb9f3a"
             ],
             [
              0.8888888888888888,
              "#fdca26"
             ],
             [
              1,
              "#f0f921"
             ]
            ],
            "type": "surface"
           }
          ],
          "table": [
           {
            "cells": {
             "fill": {
              "color": "#EBF0F8"
             },
             "line": {
              "color": "white"
             }
            },
            "header": {
             "fill": {
              "color": "#C8D4E3"
             },
             "line": {
              "color": "white"
             }
            },
            "type": "table"
           }
          ]
         },
         "layout": {
          "annotationdefaults": {
           "arrowcolor": "#2a3f5f",
           "arrowhead": 0,
           "arrowwidth": 1
          },
          "autotypenumbers": "strict",
          "coloraxis": {
           "colorbar": {
            "outlinewidth": 0,
            "ticks": ""
           }
          },
          "colorscale": {
           "diverging": [
            [
             0,
             "#8e0152"
            ],
            [
             0.1,
             "#c51b7d"
            ],
            [
             0.2,
             "#de77ae"
            ],
            [
             0.3,
             "#f1b6da"
            ],
            [
             0.4,
             "#fde0ef"
            ],
            [
             0.5,
             "#f7f7f7"
            ],
            [
             0.6,
             "#e6f5d0"
            ],
            [
             0.7,
             "#b8e186"
            ],
            [
             0.8,
             "#7fbc41"
            ],
            [
             0.9,
             "#4d9221"
            ],
            [
             1,
             "#276419"
            ]
           ],
           "sequential": [
            [
             0,
             "#0d0887"
            ],
            [
             0.1111111111111111,
             "#46039f"
            ],
            [
             0.2222222222222222,
             "#7201a8"
            ],
            [
             0.3333333333333333,
             "#9c179e"
            ],
            [
             0.4444444444444444,
             "#bd3786"
            ],
            [
             0.5555555555555556,
             "#d8576b"
            ],
            [
             0.6666666666666666,
             "#ed7953"
            ],
            [
             0.7777777777777778,
             "#fb9f3a"
            ],
            [
             0.8888888888888888,
             "#fdca26"
            ],
            [
             1,
             "#f0f921"
            ]
           ],
           "sequentialminus": [
            [
             0,
             "#0d0887"
            ],
            [
             0.1111111111111111,
             "#46039f"
            ],
            [
             0.2222222222222222,
             "#7201a8"
            ],
            [
             0.3333333333333333,
             "#9c179e"
            ],
            [
             0.4444444444444444,
             "#bd3786"
            ],
            [
             0.5555555555555556,
             "#d8576b"
            ],
            [
             0.6666666666666666,
             "#ed7953"
            ],
            [
             0.7777777777777778,
             "#fb9f3a"
            ],
            [
             0.8888888888888888,
             "#fdca26"
            ],
            [
             1,
             "#f0f921"
            ]
           ]
          },
          "colorway": [
           "#636efa",
           "#EF553B",
           "#00cc96",
           "#ab63fa",
           "#FFA15A",
           "#19d3f3",
           "#FF6692",
           "#B6E880",
           "#FF97FF",
           "#FECB52"
          ],
          "font": {
           "color": "#2a3f5f"
          },
          "geo": {
           "bgcolor": "white",
           "lakecolor": "white",
           "landcolor": "#E5ECF6",
           "showlakes": true,
           "showland": true,
           "subunitcolor": "white"
          },
          "hoverlabel": {
           "align": "left"
          },
          "hovermode": "closest",
          "mapbox": {
           "style": "light"
          },
          "paper_bgcolor": "white",
          "plot_bgcolor": "#E5ECF6",
          "polar": {
           "angularaxis": {
            "gridcolor": "white",
            "linecolor": "white",
            "ticks": ""
           },
           "bgcolor": "#E5ECF6",
           "radialaxis": {
            "gridcolor": "white",
            "linecolor": "white",
            "ticks": ""
           }
          },
          "scene": {
           "xaxis": {
            "backgroundcolor": "#E5ECF6",
            "gridcolor": "white",
            "gridwidth": 2,
            "linecolor": "white",
            "showbackground": true,
            "ticks": "",
            "zerolinecolor": "white"
           },
           "yaxis": {
            "backgroundcolor": "#E5ECF6",
            "gridcolor": "white",
            "gridwidth": 2,
            "linecolor": "white",
            "showbackground": true,
            "ticks": "",
            "zerolinecolor": "white"
           },
           "zaxis": {
            "backgroundcolor": "#E5ECF6",
            "gridcolor": "white",
            "gridwidth": 2,
            "linecolor": "white",
            "showbackground": true,
            "ticks": "",
            "zerolinecolor": "white"
           }
          },
          "shapedefaults": {
           "line": {
            "color": "#2a3f5f"
           }
          },
          "ternary": {
           "aaxis": {
            "gridcolor": "white",
            "linecolor": "white",
            "ticks": ""
           },
           "baxis": {
            "gridcolor": "white",
            "linecolor": "white",
            "ticks": ""
           },
           "bgcolor": "#E5ECF6",
           "caxis": {
            "gridcolor": "white",
            "linecolor": "white",
            "ticks": ""
           }
          },
          "title": {
           "x": 0.05
          },
          "xaxis": {
           "automargin": true,
           "gridcolor": "white",
           "linecolor": "white",
           "ticks": "",
           "title": {
            "standoff": 15
           },
           "zerolinecolor": "white",
           "zerolinewidth": 2
          },
          "yaxis": {
           "automargin": true,
           "gridcolor": "white",
           "linecolor": "white",
           "ticks": "",
           "title": {
            "standoff": 15
           },
           "zerolinecolor": "white",
           "zerolinewidth": 2
          }
         }
        },
        "width": 1000,
        "xaxis": {
         "anchor": "y",
         "categoryarray": [
          "Bengali",
          "Biryani",
          "Chinese",
          "North Indian",
          "Bakery, Desserts",
          "North Indian, Chinese",
          "Fast Food",
          "Ice Cream, Desserts",
          "Biryani, North Indian",
          "South Indian",
          "Chinese, Fast Food",
          "Chinese, North Indian",
          "Ice Cream, Desserts, Beverages",
          "Bakery, Desserts, Fast Food",
          "Bakery",
          "Mishti",
          "Street Food",
          "Bengali, North Indian",
          "Bengali, Chinese",
          "Chinese, Momos"
         ],
         "categoryorder": "array",
         "domain": [
          0,
          1
         ],
         "title": {
          "text": "Cuisines"
         }
        },
        "yaxis": {
         "anchor": "x",
         "domain": [
          0,
          1
         ],
         "title": {
          "text": "Count"
         }
        }
       }
      }
     },
     "metadata": {},
     "output_type": "display_data"
    }
   ],
   "source": [
    "# Bar plot showcasing total number of restaurants for cuisine as per dataset\n",
    "fig = px.bar(unique_cuisiness.head(20),x='Cuisines',y='Count',color='Cuisines',height=500,width=1000)\n",
    "fig.update_layout(showlegend=False)\n",
    "fig.show()"
   ]
  },
  {
   "cell_type": "code",
   "execution_count": 33,
   "id": "160aed83",
   "metadata": {},
   "outputs": [
    {
     "data": {
      "text/html": [
       "<div>\n",
       "<style scoped>\n",
       "    .dataframe tbody tr th:only-of-type {\n",
       "        vertical-align: middle;\n",
       "    }\n",
       "\n",
       "    .dataframe tbody tr th {\n",
       "        vertical-align: top;\n",
       "    }\n",
       "\n",
       "    .dataframe thead th {\n",
       "        text-align: right;\n",
       "    }\n",
       "</style>\n",
       "<table border=\"1\" class=\"dataframe\">\n",
       "  <thead>\n",
       "    <tr style=\"text-align: right;\">\n",
       "      <th></th>\n",
       "      <th>IsHomeDelivery</th>\n",
       "    </tr>\n",
       "  </thead>\n",
       "  <tbody>\n",
       "    <tr>\n",
       "      <th>1</th>\n",
       "      <td>4918</td>\n",
       "    </tr>\n",
       "    <tr>\n",
       "      <th>0</th>\n",
       "      <td>5</td>\n",
       "    </tr>\n",
       "  </tbody>\n",
       "</table>\n",
       "</div>"
      ],
      "text/plain": [
       "   IsHomeDelivery\n",
       "1            4918\n",
       "0               5"
      ]
     },
     "execution_count": 33,
     "metadata": {},
     "output_type": "execute_result"
    }
   ],
   "source": [
    "# Provide home delivery \n",
    "new_df['IsHomeDelivery'].value_counts().to_frame()"
   ]
  },
  {
   "cell_type": "code",
   "execution_count": 34,
   "id": "8aaaa79b",
   "metadata": {},
   "outputs": [
    {
     "data": {
      "text/plain": [
       "<Axes: ylabel='IsHomeDelivery'>"
      ]
     },
     "execution_count": 34,
     "metadata": {},
     "output_type": "execute_result"
    },
    {
     "data": {
      "image/png": "[encoded data removed]",
      "text/plain": [
       "<Figure size 640x480 with 1 Axes>"
      ]
     },
     "metadata": {},
     "output_type": "display_data"
    }
   ],
   "source": [
    "new_df['IsHomeDelivery'].value_counts().plot(kind='pie',autopct='%0.1f%%')"
   ]
  },
  {
   "cell_type": "code",
   "execution_count": 35,
   "id": "59e6a33f",
   "metadata": {},
   "outputs": [
    {
     "data": {
      "text/html": [
       "<div>\n",
       "<style scoped>\n",
       "    .dataframe tbody tr th:only-of-type {\n",
       "        vertical-align: middle;\n",
       "    }\n",
       "\n",
       "    .dataframe tbody tr th {\n",
       "        vertical-align: top;\n",
       "    }\n",
       "\n",
       "    .dataframe thead th {\n",
       "        text-align: right;\n",
       "    }\n",
       "</style>\n",
       "<table border=\"1\" class=\"dataframe\">\n",
       "  <thead>\n",
       "    <tr style=\"text-align: right;\">\n",
       "      <th></th>\n",
       "      <th>isVegOnly</th>\n",
       "    </tr>\n",
       "  </thead>\n",
       "  <tbody>\n",
       "    <tr>\n",
       "      <th>0</th>\n",
       "      <td>4583</td>\n",
       "    </tr>\n",
       "    <tr>\n",
       "      <th>1</th>\n",
       "      <td>340</td>\n",
       "    </tr>\n",
       "  </tbody>\n",
       "</table>\n",
       "</div>"
      ],
      "text/plain": [
       "   isVegOnly\n",
       "0       4583\n",
       "1        340"
      ]
     },
     "execution_count": 35,
     "metadata": {},
     "output_type": "execute_result"
    }
   ],
   "source": [
    "# Provide veg only food\n",
    "new_df['isVegOnly'].value_counts().to_frame()"
   ]
  },
  {
   "cell_type": "code",
   "execution_count": 36,
   "id": "cc4a9d34",
   "metadata": {},
   "outputs": [
    {
     "data": {
      "text/plain": [
       "<Axes: ylabel='isVegOnly'>"
      ]
     },
     "execution_count": 36,
     "metadata": {},
     "output_type": "execute_result"
    },
    {
     "data": {
      "image/png": "[encoded data removed]",
      "text/plain": [
       "<Figure size 640x480 with 1 Axes>"
      ]
     },
     "metadata": {},
     "output_type": "display_data"
    }
   ],
   "source": [
    "new_df['isVegOnly'].value_counts().plot(kind='pie',autopct='%0.1f%%')"
   ]
  },
  {
   "cell_type": "code",
   "execution_count": 37,
   "id": "6e3252a1",
   "metadata": {},
   "outputs": [
    {
     "data": {
      "text/html": [
       "<div>\n",
       "<style scoped>\n",
       "    .dataframe tbody tr th:only-of-type {\n",
       "        vertical-align: middle;\n",
       "    }\n",
       "\n",
       "    .dataframe tbody tr th {\n",
       "        vertical-align: top;\n",
       "    }\n",
       "\n",
       "    .dataframe thead th {\n",
       "        text-align: right;\n",
       "    }\n",
       "</style>\n",
       "<table border=\"1\" class=\"dataframe\">\n",
       "  <thead>\n",
       "    <tr style=\"text-align: right;\">\n",
       "      <th></th>\n",
       "      <th>isIndoorSeating</th>\n",
       "    </tr>\n",
       "  </thead>\n",
       "  <tbody>\n",
       "    <tr>\n",
       "      <th>0</th>\n",
       "      <td>2964</td>\n",
       "    </tr>\n",
       "    <tr>\n",
       "      <th>1</th>\n",
       "      <td>1959</td>\n",
       "    </tr>\n",
       "  </tbody>\n",
       "</table>\n",
       "</div>"
      ],
      "text/plain": [
       "   isIndoorSeating\n",
       "0             2964\n",
       "1             1959"
      ]
     },
     "execution_count": 37,
     "metadata": {},
     "output_type": "execute_result"
    }
   ],
   "source": [
    "# Provide indoor seating\n",
    "new_df['isIndoorSeating'].value_counts().to_frame()"
   ]
  },
  {
   "cell_type": "code",
   "execution_count": 38,
   "id": "8d805bb7",
   "metadata": {},
   "outputs": [
    {
     "data": {
      "text/plain": [
       "<Axes: ylabel='isIndoorSeating'>"
      ]
     },
     "execution_count": 38,
     "metadata": {},
     "output_type": "execute_result"
    },
    {
     "data": {
      "image/png": "[encoded data removed]",
      "text/plain": [
       "<Figure size 640x480 with 1 Axes>"
      ]
     },
     "metadata": {},
     "output_type": "display_data"
    }
   ],
   "source": [
    "new_df['isIndoorSeating'].value_counts().plot(kind='pie',autopct='%0.1f%%')"
   ]
  },
  {
   "cell_type": "code",
   "execution_count": 39,
   "id": "6dd0fd1d",
   "metadata": {},
   "outputs": [
    {
     "data": {
      "text/html": [
       "<div>\n",
       "<style scoped>\n",
       "    .dataframe tbody tr th:only-of-type {\n",
       "        vertical-align: middle;\n",
       "    }\n",
       "\n",
       "    .dataframe tbody tr th {\n",
       "        vertical-align: top;\n",
       "    }\n",
       "\n",
       "    .dataframe thead th {\n",
       "        text-align: right;\n",
       "    }\n",
       "</style>\n",
       "<table border=\"1\" class=\"dataframe\">\n",
       "  <thead>\n",
       "    <tr style=\"text-align: right;\">\n",
       "      <th></th>\n",
       "      <th>isTakeaway</th>\n",
       "    </tr>\n",
       "  </thead>\n",
       "  <tbody>\n",
       "    <tr>\n",
       "      <th>1</th>\n",
       "      <td>3375</td>\n",
       "    </tr>\n",
       "    <tr>\n",
       "      <th>0</th>\n",
       "      <td>1548</td>\n",
       "    </tr>\n",
       "  </tbody>\n",
       "</table>\n",
       "</div>"
      ],
      "text/plain": [
       "   isTakeaway\n",
       "1        3375\n",
       "0        1548"
      ]
     },
     "execution_count": 39,
     "metadata": {},
     "output_type": "execute_result"
    }
   ],
   "source": [
    "# Is take away \n",
    "new_df['isTakeaway'].value_counts().to_frame()"
   ]
  },
  {
   "cell_type": "code",
   "execution_count": 40,
   "id": "25527ae3",
   "metadata": {},
   "outputs": [
    {
     "data": {
      "text/plain": [
       "<Axes: ylabel='isTakeaway'>"
      ]
     },
     "execution_count": 40,
     "metadata": {},
     "output_type": "execute_result"
    },
    {
     "data": {
      "image/png": "[encoded data removed]",
      "text/plain": [
       "<Figure size 640x480 with 1 Axes>"
      ]
     },
     "metadata": {},
     "output_type": "display_data"
    }
   ],
   "source": [
    "new_df['isTakeaway'].value_counts().plot(kind='pie',autopct='%0.1f%%')"
   ]
  },
  {
   "cell_type": "code",
   "execution_count": 41,
   "id": "9c192434",
   "metadata": {},
   "outputs": [],
   "source": [
    "# Top 10 area having highest delivery rating\n",
    "top_10_area = new_df.groupby('Area')['Delivery Ratings'].mean().sort_values(ascending=[False]).head(10)\n"
   ]
  },
  {
   "cell_type": "code",
   "execution_count": 42,
   "id": "5fc40905",
   "metadata": {},
   "outputs": [
    {
     "data": {
      "text/plain": [
       "Area\n",
       "ITC Sonar, Science City Area, Kolkata               4.400000\n",
       "Silver Spring Arcade, Science City Area, Kolkata    4.225000\n",
       "Forum Mall, Elgin, Kolkata                          4.225000\n",
       "Howard Johnson, Chinar Park, Kolkata                4.200000\n",
       "GT Road, Howrah                                     4.200000\n",
       "Upohar Town Centre, Garia, Kolkata                  4.200000\n",
       "Swimming Pool Chaat, Sector 1, Kolkata              4.133333\n",
       "DLF IT Park, Rajarhat, Kolkata                      4.100000\n",
       "Mani Square Mall, Kankurgachi, Kolkata              4.100000\n",
       "Fort Knox, Camac Street Area, Kolkata               4.066667\n",
       "Name: Delivery Ratings, dtype: float64"
      ]
     },
     "execution_count": 42,
     "metadata": {},
     "output_type": "execute_result"
    }
   ],
   "source": [
    "top_10_area"
   ]
  },
  {
   "cell_type": "code",
   "execution_count": 43,
   "id": "0403d774",
   "metadata": {},
   "outputs": [
    {
     "data": {
      "image/png": "[encoded data removed]",
      "text/plain": [
       "<Figure size 640x480 with 1 Axes>"
      ]
     },
     "metadata": {},
     "output_type": "display_data"
    }
   ],
   "source": [
    "sns.barplot(x=top_10_area.index, y=top_10_area.values)\n",
    "plt.title(\"Area-wise Delivery Ratings\")\n",
    "plt.xlabel(\"Areas\")\n",
    "plt.ylabel(\"Delivery Ratings\")\n",
    "plt.xticks(rotation=90)\n",
    "plt.show()"
   ]
  },
  {
   "cell_type": "code",
   "execution_count": 44,
   "id": "3af32c2e",
   "metadata": {},
   "outputs": [
    {
     "data": {
      "text/html": [
       "<div>\n",
       "<style scoped>\n",
       "    .dataframe tbody tr th:only-of-type {\n",
       "        vertical-align: middle;\n",
       "    }\n",
       "\n",
       "    .dataframe tbody tr th {\n",
       "        vertical-align: top;\n",
       "    }\n",
       "\n",
       "    .dataframe thead th {\n",
       "        text-align: right;\n",
       "    }\n",
       "</style>\n",
       "<table border=\"1\" class=\"dataframe\">\n",
       "  <thead>\n",
       "    <tr style=\"text-align: right;\">\n",
       "      <th></th>\n",
       "      <th>Name</th>\n",
       "      <th>Cuisines</th>\n",
       "      <th>Area</th>\n",
       "      <th>IsHomeDelivery</th>\n",
       "      <th>isTakeaway</th>\n",
       "      <th>isIndoorSeating</th>\n",
       "      <th>isVegOnly</th>\n",
       "      <th>Dinner Ratings</th>\n",
       "      <th>Dinner Reviews</th>\n",
       "      <th>Delivery Ratings</th>\n",
       "      <th>Delivery Reviews</th>\n",
       "      <th>PopularDishes</th>\n",
       "      <th>PeopleKnownFor</th>\n",
       "      <th>AverageCost</th>\n",
       "    </tr>\n",
       "  </thead>\n",
       "  <tbody>\n",
       "    <tr>\n",
       "      <th>72</th>\n",
       "      <td>Natural Ice Cream</td>\n",
       "      <td>Ice Cream, Desserts</td>\n",
       "      <td>Park Street Area, Kolkata</td>\n",
       "      <td>1</td>\n",
       "      <td>1</td>\n",
       "      <td>1</td>\n",
       "      <td>1</td>\n",
       "      <td>4.9</td>\n",
       "      <td>2419</td>\n",
       "      <td>4.5</td>\n",
       "      <td>9632</td>\n",
       "      <td>Chiku Shake, Chocobite, Choco Bite, Sitafal Ic...</td>\n",
       "      <td>Bank for the Buck, Totally Worth it, Pretty De...</td>\n",
       "      <td>300</td>\n",
       "    </tr>\n",
       "    <tr>\n",
       "      <th>3386</th>\n",
       "      <td>Asia Kitchen By Mainland China</td>\n",
       "      <td>Chinese, Momos, Thai, Asian, Seafood, Sushi, B...</td>\n",
       "      <td>Acropolis Mall, Kasba, Kolkata</td>\n",
       "      <td>1</td>\n",
       "      <td>1</td>\n",
       "      <td>1</td>\n",
       "      <td>0</td>\n",
       "      <td>4.8</td>\n",
       "      <td>2417</td>\n",
       "      <td>4.3</td>\n",
       "      <td>1288</td>\n",
       "      <td>King Prawn Tempura, Chilli Teriyaki Chicken, L...</td>\n",
       "      <td>Live Kitchen, Service Time, Soothing Ambience,...</td>\n",
       "      <td>2000</td>\n",
       "    </tr>\n",
       "    <tr>\n",
       "      <th>264</th>\n",
       "      <td>Pa Pa Ya</td>\n",
       "      <td>Asian, Chinese, Japanese, Thai</td>\n",
       "      <td>Park Street Area, Kolkata</td>\n",
       "      <td>1</td>\n",
       "      <td>0</td>\n",
       "      <td>1</td>\n",
       "      <td>0</td>\n",
       "      <td>4.8</td>\n",
       "      <td>1975</td>\n",
       "      <td>4.1</td>\n",
       "      <td>707</td>\n",
       "      <td>Rock Shrimp Tempura Roll, Sushi Sashimi, Lamb ...</td>\n",
       "      <td>Magnificent View, Sophisticated, Worth the Pri...</td>\n",
       "      <td>2500</td>\n",
       "    </tr>\n",
       "    <tr>\n",
       "      <th>110</th>\n",
       "      <td>Oh! Calcutta</td>\n",
       "      <td>Bengali, Seafood</td>\n",
       "      <td>Forum Mall, Elgin, Kolkata</td>\n",
       "      <td>1</td>\n",
       "      <td>1</td>\n",
       "      <td>1</td>\n",
       "      <td>0</td>\n",
       "      <td>4.7</td>\n",
       "      <td>1997</td>\n",
       "      <td>4.4</td>\n",
       "      <td>1291</td>\n",
       "      <td>Smoked Hilsa, Railway Mutton, Kacha Lonka Murg...</td>\n",
       "      <td>Intimate Setting, Sophisticated, Worth the Pri...</td>\n",
       "      <td>2000</td>\n",
       "    </tr>\n",
       "    <tr>\n",
       "      <th>894</th>\n",
       "      <td>Chittoda's Suruchee Restaurant</td>\n",
       "      <td>Chinese, Biryani, North Indian</td>\n",
       "      <td>Esplanade, Kolkata</td>\n",
       "      <td>1</td>\n",
       "      <td>1</td>\n",
       "      <td>1</td>\n",
       "      <td>0</td>\n",
       "      <td>4.7</td>\n",
       "      <td>1117</td>\n",
       "      <td>4.4</td>\n",
       "      <td>3505</td>\n",
       "      <td>Chitto Babur Dokan, Butter Toast, Fish Diamond...</td>\n",
       "      <td>Service and Quality of Food, Menu Options, Che...</td>\n",
       "      <td>300</td>\n",
       "    </tr>\n",
       "  </tbody>\n",
       "</table>\n",
       "</div>"
      ],
      "text/plain": [
       "                                Name  \\\n",
       "72                 Natural Ice Cream   \n",
       "3386  Asia Kitchen By Mainland China   \n",
       "264                         Pa Pa Ya   \n",
       "110                     Oh! Calcutta   \n",
       "894   Chittoda's Suruchee Restaurant   \n",
       "\n",
       "                                               Cuisines  \\\n",
       "72                                  Ice Cream, Desserts   \n",
       "3386  Chinese, Momos, Thai, Asian, Seafood, Sushi, B...   \n",
       "264                      Asian, Chinese, Japanese, Thai   \n",
       "110                                    Bengali, Seafood   \n",
       "894                      Chinese, Biryani, North Indian   \n",
       "\n",
       "                                Area  IsHomeDelivery  isTakeaway  \\\n",
       "72         Park Street Area, Kolkata               1           1   \n",
       "3386  Acropolis Mall, Kasba, Kolkata               1           1   \n",
       "264        Park Street Area, Kolkata               1           0   \n",
       "110       Forum Mall, Elgin, Kolkata               1           1   \n",
       "894               Esplanade, Kolkata               1           1   \n",
       "\n",
       "      isIndoorSeating  isVegOnly  Dinner Ratings  Dinner Reviews  \\\n",
       "72                  1          1             4.9            2419   \n",
       "3386                1          0             4.8            2417   \n",
       "264                 1          0             4.8            1975   \n",
       "110                 1          0             4.7            1997   \n",
       "894                 1          0             4.7            1117   \n",
       "\n",
       "      Delivery Ratings  Delivery Reviews  \\\n",
       "72                 4.5              9632   \n",
       "3386               4.3              1288   \n",
       "264                4.1               707   \n",
       "110                4.4              1291   \n",
       "894                4.4              3505   \n",
       "\n",
       "                                          PopularDishes  \\\n",
       "72    Chiku Shake, Chocobite, Choco Bite, Sitafal Ic...   \n",
       "3386  King Prawn Tempura, Chilli Teriyaki Chicken, L...   \n",
       "264   Rock Shrimp Tempura Roll, Sushi Sashimi, Lamb ...   \n",
       "110   Smoked Hilsa, Railway Mutton, Kacha Lonka Murg...   \n",
       "894   Chitto Babur Dokan, Butter Toast, Fish Diamond...   \n",
       "\n",
       "                                         PeopleKnownFor  AverageCost  \n",
       "72    Bank for the Buck, Totally Worth it, Pretty De...          300  \n",
       "3386  Live Kitchen, Service Time, Soothing Ambience,...         2000  \n",
       "264   Magnificent View, Sophisticated, Worth the Pri...         2500  \n",
       "110   Intimate Setting, Sophisticated, Worth the Pri...         2000  \n",
       "894   Service and Quality of Food, Menu Options, Che...          300  "
      ]
     },
     "execution_count": 44,
     "metadata": {},
     "output_type": "execute_result"
    }
   ],
   "source": [
    "# Top 5 restaurant in Dine-In category\n",
    "new_df.loc[(df['isIndoorSeating']==1) & (new_df['Dinner Ratings'] >= 4.5) & (new_df['Delivery Ratings'] >= 4)].sort_values(by=['Dinner Ratings','Delivery Ratings'], ascending=False)[:5]"
   ]
  },
  {
   "cell_type": "code",
   "execution_count": 45,
   "id": "68226165",
   "metadata": {},
   "outputs": [
    {
     "data": {
      "text/html": [
       "<div>\n",
       "<style scoped>\n",
       "    .dataframe tbody tr th:only-of-type {\n",
       "        vertical-align: middle;\n",
       "    }\n",
       "\n",
       "    .dataframe tbody tr th {\n",
       "        vertical-align: top;\n",
       "    }\n",
       "\n",
       "    .dataframe thead th {\n",
       "        text-align: right;\n",
       "    }\n",
       "</style>\n",
       "<table border=\"1\" class=\"dataframe\">\n",
       "  <thead>\n",
       "    <tr style=\"text-align: right;\">\n",
       "      <th></th>\n",
       "      <th>Name</th>\n",
       "      <th>Cuisines</th>\n",
       "      <th>Area</th>\n",
       "      <th>IsHomeDelivery</th>\n",
       "      <th>isTakeaway</th>\n",
       "      <th>isIndoorSeating</th>\n",
       "      <th>isVegOnly</th>\n",
       "      <th>Dinner Ratings</th>\n",
       "      <th>Dinner Reviews</th>\n",
       "      <th>Delivery Ratings</th>\n",
       "      <th>Delivery Reviews</th>\n",
       "      <th>PopularDishes</th>\n",
       "      <th>PeopleKnownFor</th>\n",
       "      <th>AverageCost</th>\n",
       "    </tr>\n",
       "  </thead>\n",
       "  <tbody>\n",
       "    <tr>\n",
       "      <th>72</th>\n",
       "      <td>Natural Ice Cream</td>\n",
       "      <td>Ice Cream, Desserts</td>\n",
       "      <td>Park Street Area, Kolkata</td>\n",
       "      <td>1</td>\n",
       "      <td>1</td>\n",
       "      <td>1</td>\n",
       "      <td>1</td>\n",
       "      <td>4.9</td>\n",
       "      <td>2419</td>\n",
       "      <td>4.5</td>\n",
       "      <td>9632</td>\n",
       "      <td>Chiku Shake, Chocobite, Choco Bite, Sitafal Ic...</td>\n",
       "      <td>Bank for the Buck, Totally Worth it, Pretty De...</td>\n",
       "      <td>300</td>\n",
       "    </tr>\n",
       "    <tr>\n",
       "      <th>3386</th>\n",
       "      <td>Asia Kitchen By Mainland China</td>\n",
       "      <td>Chinese, Momos, Thai, Asian, Seafood, Sushi, B...</td>\n",
       "      <td>Acropolis Mall, Kasba, Kolkata</td>\n",
       "      <td>1</td>\n",
       "      <td>1</td>\n",
       "      <td>1</td>\n",
       "      <td>0</td>\n",
       "      <td>4.8</td>\n",
       "      <td>2417</td>\n",
       "      <td>4.3</td>\n",
       "      <td>1288</td>\n",
       "      <td>King Prawn Tempura, Chilli Teriyaki Chicken, L...</td>\n",
       "      <td>Live Kitchen, Service Time, Soothing Ambience,...</td>\n",
       "      <td>2000</td>\n",
       "    </tr>\n",
       "    <tr>\n",
       "      <th>110</th>\n",
       "      <td>Oh! Calcutta</td>\n",
       "      <td>Bengali, Seafood</td>\n",
       "      <td>Forum Mall, Elgin, Kolkata</td>\n",
       "      <td>1</td>\n",
       "      <td>1</td>\n",
       "      <td>1</td>\n",
       "      <td>0</td>\n",
       "      <td>4.7</td>\n",
       "      <td>1997</td>\n",
       "      <td>4.4</td>\n",
       "      <td>1291</td>\n",
       "      <td>Smoked Hilsa, Railway Mutton, Kacha Lonka Murg...</td>\n",
       "      <td>Intimate Setting, Sophisticated, Worth the Pri...</td>\n",
       "      <td>2000</td>\n",
       "    </tr>\n",
       "    <tr>\n",
       "      <th>894</th>\n",
       "      <td>Chittoda's Suruchee Restaurant</td>\n",
       "      <td>Chinese, Biryani, North Indian</td>\n",
       "      <td>Esplanade, Kolkata</td>\n",
       "      <td>1</td>\n",
       "      <td>1</td>\n",
       "      <td>1</td>\n",
       "      <td>0</td>\n",
       "      <td>4.7</td>\n",
       "      <td>1117</td>\n",
       "      <td>4.4</td>\n",
       "      <td>3505</td>\n",
       "      <td>Chitto Babur Dokan, Butter Toast, Fish Diamond...</td>\n",
       "      <td>Service and Quality of Food, Menu Options, Che...</td>\n",
       "      <td>300</td>\n",
       "    </tr>\n",
       "    <tr>\n",
       "      <th>3214</th>\n",
       "      <td>Balaram Mullick &amp; Radharaman Mullick Sweets</td>\n",
       "      <td>Mishti, Desserts, Street Food</td>\n",
       "      <td>Bhawanipur, Kolkata</td>\n",
       "      <td>1</td>\n",
       "      <td>1</td>\n",
       "      <td>1</td>\n",
       "      <td>0</td>\n",
       "      <td>4.7</td>\n",
       "      <td>1379</td>\n",
       "      <td>4.3</td>\n",
       "      <td>10200</td>\n",
       "      <td>Samosa Kachori, Bhapa Doi, Mango Souffle, Raso...</td>\n",
       "      <td>Spacious Seating Area, More Variety, Favorite ...</td>\n",
       "      <td>100</td>\n",
       "    </tr>\n",
       "  </tbody>\n",
       "</table>\n",
       "</div>"
      ],
      "text/plain": [
       "                                             Name  \\\n",
       "72                              Natural Ice Cream   \n",
       "3386               Asia Kitchen By Mainland China   \n",
       "110                                  Oh! Calcutta   \n",
       "894                Chittoda's Suruchee Restaurant   \n",
       "3214  Balaram Mullick & Radharaman Mullick Sweets   \n",
       "\n",
       "                                               Cuisines  \\\n",
       "72                                  Ice Cream, Desserts   \n",
       "3386  Chinese, Momos, Thai, Asian, Seafood, Sushi, B...   \n",
       "110                                    Bengali, Seafood   \n",
       "894                      Chinese, Biryani, North Indian   \n",
       "3214                      Mishti, Desserts, Street Food   \n",
       "\n",
       "                                Area  IsHomeDelivery  isTakeaway  \\\n",
       "72         Park Street Area, Kolkata               1           1   \n",
       "3386  Acropolis Mall, Kasba, Kolkata               1           1   \n",
       "110       Forum Mall, Elgin, Kolkata               1           1   \n",
       "894               Esplanade, Kolkata               1           1   \n",
       "3214             Bhawanipur, Kolkata               1           1   \n",
       "\n",
       "      isIndoorSeating  isVegOnly  Dinner Ratings  Dinner Reviews  \\\n",
       "72                  1          1             4.9            2419   \n",
       "3386                1          0             4.8            2417   \n",
       "110                 1          0             4.7            1997   \n",
       "894                 1          0             4.7            1117   \n",
       "3214                1          0             4.7            1379   \n",
       "\n",
       "      Delivery Ratings  Delivery Reviews  \\\n",
       "72                 4.5              9632   \n",
       "3386               4.3              1288   \n",
       "110                4.4              1291   \n",
       "894                4.4              3505   \n",
       "3214               4.3             10200   \n",
       "\n",
       "                                          PopularDishes  \\\n",
       "72    Chiku Shake, Chocobite, Choco Bite, Sitafal Ic...   \n",
       "3386  King Prawn Tempura, Chilli Teriyaki Chicken, L...   \n",
       "110   Smoked Hilsa, Railway Mutton, Kacha Lonka Murg...   \n",
       "894   Chitto Babur Dokan, Butter Toast, Fish Diamond...   \n",
       "3214  Samosa Kachori, Bhapa Doi, Mango Souffle, Raso...   \n",
       "\n",
       "                                         PeopleKnownFor  AverageCost  \n",
       "72    Bank for the Buck, Totally Worth it, Pretty De...          300  \n",
       "3386  Live Kitchen, Service Time, Soothing Ambience,...         2000  \n",
       "110   Intimate Setting, Sophisticated, Worth the Pri...         2000  \n",
       "894   Service and Quality of Food, Menu Options, Che...          300  \n",
       "3214  Spacious Seating Area, More Variety, Favorite ...          100  "
      ]
     },
     "execution_count": 45,
     "metadata": {},
     "output_type": "execute_result"
    }
   ],
   "source": [
    "# Top 5 restaurant in Takeaway category\n",
    "new_df.loc[(df['isTakeaway']==1) & (new_df['Dinner Ratings'] >= 4.5) & (new_df['Delivery Ratings'] >= 4)].sort_values(by=['Dinner Ratings','Delivery Ratings'], ascending=False)[:5]"
   ]
  },
  {
   "cell_type": "code",
   "execution_count": 46,
   "id": "d657bd80",
   "metadata": {},
   "outputs": [
    {
     "data": {
      "text/html": [
       "<div>\n",
       "<style scoped>\n",
       "    .dataframe tbody tr th:only-of-type {\n",
       "        vertical-align: middle;\n",
       "    }\n",
       "\n",
       "    .dataframe tbody tr th {\n",
       "        vertical-align: top;\n",
       "    }\n",
       "\n",
       "    .dataframe thead th {\n",
       "        text-align: right;\n",
       "    }\n",
       "</style>\n",
       "<table border=\"1\" class=\"dataframe\">\n",
       "  <thead>\n",
       "    <tr style=\"text-align: right;\">\n",
       "      <th></th>\n",
       "      <th>Name</th>\n",
       "      <th>Cuisines</th>\n",
       "      <th>Area</th>\n",
       "      <th>IsHomeDelivery</th>\n",
       "      <th>isTakeaway</th>\n",
       "      <th>isIndoorSeating</th>\n",
       "      <th>isVegOnly</th>\n",
       "      <th>Dinner Ratings</th>\n",
       "      <th>Dinner Reviews</th>\n",
       "      <th>Delivery Ratings</th>\n",
       "      <th>Delivery Reviews</th>\n",
       "      <th>PopularDishes</th>\n",
       "      <th>PeopleKnownFor</th>\n",
       "      <th>AverageCost</th>\n",
       "    </tr>\n",
       "  </thead>\n",
       "  <tbody>\n",
       "    <tr>\n",
       "      <th>72</th>\n",
       "      <td>Natural Ice Cream</td>\n",
       "      <td>Ice Cream, Desserts</td>\n",
       "      <td>Park Street Area, Kolkata</td>\n",
       "      <td>1</td>\n",
       "      <td>1</td>\n",
       "      <td>1</td>\n",
       "      <td>1</td>\n",
       "      <td>4.9</td>\n",
       "      <td>2419</td>\n",
       "      <td>4.5</td>\n",
       "      <td>9632</td>\n",
       "      <td>Chiku Shake, Chocobite, Choco Bite, Sitafal Ic...</td>\n",
       "      <td>Bank for the Buck, Totally Worth it, Pretty De...</td>\n",
       "      <td>300</td>\n",
       "    </tr>\n",
       "    <tr>\n",
       "      <th>3675</th>\n",
       "      <td>The Chutney Co.</td>\n",
       "      <td>South Indian</td>\n",
       "      <td>Dalhousie BBD Bagh, Kolkata</td>\n",
       "      <td>1</td>\n",
       "      <td>1</td>\n",
       "      <td>1</td>\n",
       "      <td>1</td>\n",
       "      <td>4.5</td>\n",
       "      <td>846</td>\n",
       "      <td>4.3</td>\n",
       "      <td>1821</td>\n",
       "      <td>Molagapodi Idli, Rawa Onion Dosa, Peanut Chutn...</td>\n",
       "      <td>Comfortable Seating Area, Family Place, Great ...</td>\n",
       "      <td>400</td>\n",
       "    </tr>\n",
       "    <tr>\n",
       "      <th>1075</th>\n",
       "      <td>Chennai Square</td>\n",
       "      <td>South Indian, Beverages</td>\n",
       "      <td>Broadway Mall, Sector 3, Salt Lake, Kolkata</td>\n",
       "      <td>1</td>\n",
       "      <td>1</td>\n",
       "      <td>1</td>\n",
       "      <td>1</td>\n",
       "      <td>4.5</td>\n",
       "      <td>1096</td>\n",
       "      <td>4.2</td>\n",
       "      <td>7286</td>\n",
       "      <td>Coconut Dosa, Ghee Idli, Rawa Idli, Onion Chil...</td>\n",
       "      <td>Serving Style, Safe Delivery, Hygienic Packagi...</td>\n",
       "      <td>400</td>\n",
       "    </tr>\n",
       "    <tr>\n",
       "      <th>200</th>\n",
       "      <td>Piccadilly Square</td>\n",
       "      <td>Cafe, Italian, Salad, Desserts, Pizza, Greek, ...</td>\n",
       "      <td>Elgin, Kolkata</td>\n",
       "      <td>1</td>\n",
       "      <td>1</td>\n",
       "      <td>1</td>\n",
       "      <td>1</td>\n",
       "      <td>4.5</td>\n",
       "      <td>1491</td>\n",
       "      <td>4.1</td>\n",
       "      <td>2191</td>\n",
       "      <td>Celestial Chocolate, Pita Sandwich, Savoury Cr...</td>\n",
       "      <td>Outside Seating, Good Food Good Quality, Good ...</td>\n",
       "      <td>850</td>\n",
       "    </tr>\n",
       "  </tbody>\n",
       "</table>\n",
       "</div>"
      ],
      "text/plain": [
       "                   Name                                           Cuisines  \\\n",
       "72    Natural Ice Cream                                Ice Cream, Desserts   \n",
       "3675    The Chutney Co.                                       South Indian   \n",
       "1075     Chennai Square                            South Indian, Beverages   \n",
       "200   Piccadilly Square  Cafe, Italian, Salad, Desserts, Pizza, Greek, ...   \n",
       "\n",
       "                                             Area  IsHomeDelivery  isTakeaway  \\\n",
       "72                      Park Street Area, Kolkata               1           1   \n",
       "3675                  Dalhousie BBD Bagh, Kolkata               1           1   \n",
       "1075  Broadway Mall, Sector 3, Salt Lake, Kolkata               1           1   \n",
       "200                                Elgin, Kolkata               1           1   \n",
       "\n",
       "      isIndoorSeating  isVegOnly  Dinner Ratings  Dinner Reviews  \\\n",
       "72                  1          1             4.9            2419   \n",
       "3675                1          1             4.5             846   \n",
       "1075                1          1             4.5            1096   \n",
       "200                 1          1             4.5            1491   \n",
       "\n",
       "      Delivery Ratings  Delivery Reviews  \\\n",
       "72                 4.5              9632   \n",
       "3675               4.3              1821   \n",
       "1075               4.2              7286   \n",
       "200                4.1              2191   \n",
       "\n",
       "                                          PopularDishes  \\\n",
       "72    Chiku Shake, Chocobite, Choco Bite, Sitafal Ic...   \n",
       "3675  Molagapodi Idli, Rawa Onion Dosa, Peanut Chutn...   \n",
       "1075  Coconut Dosa, Ghee Idli, Rawa Idli, Onion Chil...   \n",
       "200   Celestial Chocolate, Pita Sandwich, Savoury Cr...   \n",
       "\n",
       "                                         PeopleKnownFor  AverageCost  \n",
       "72    Bank for the Buck, Totally Worth it, Pretty De...          300  \n",
       "3675  Comfortable Seating Area, Family Place, Great ...          400  \n",
       "1075  Serving Style, Safe Delivery, Hygienic Packagi...          400  \n",
       "200   Outside Seating, Good Food Good Quality, Good ...          850  "
      ]
     },
     "execution_count": 46,
     "metadata": {},
     "output_type": "execute_result"
    }
   ],
   "source": [
    "# Top 5 restaurant in Only Veg category\n",
    "new_df.loc[(df['isVegOnly']==1) & (new_df['Dinner Ratings'] >= 4.5) & (new_df['Delivery Ratings'] >= 4)].sort_values(by=['Dinner Ratings','Delivery Ratings'], ascending=False)[:5]"
   ]
  },
  {
   "cell_type": "code",
   "execution_count": 47,
   "id": "f0b5e5fb",
   "metadata": {},
   "outputs": [
    {
     "data": {
      "text/html": [
       "<div>\n",
       "<style scoped>\n",
       "    .dataframe tbody tr th:only-of-type {\n",
       "        vertical-align: middle;\n",
       "    }\n",
       "\n",
       "    .dataframe tbody tr th {\n",
       "        vertical-align: top;\n",
       "    }\n",
       "\n",
       "    .dataframe thead th {\n",
       "        text-align: right;\n",
       "    }\n",
       "</style>\n",
       "<table border=\"1\" class=\"dataframe\">\n",
       "  <thead>\n",
       "    <tr style=\"text-align: right;\">\n",
       "      <th></th>\n",
       "      <th>Name</th>\n",
       "      <th>Cuisines</th>\n",
       "      <th>Area</th>\n",
       "      <th>IsHomeDelivery</th>\n",
       "      <th>isTakeaway</th>\n",
       "      <th>isIndoorSeating</th>\n",
       "      <th>isVegOnly</th>\n",
       "      <th>Dinner Ratings</th>\n",
       "      <th>Dinner Reviews</th>\n",
       "      <th>Delivery Ratings</th>\n",
       "      <th>Delivery Reviews</th>\n",
       "      <th>PopularDishes</th>\n",
       "      <th>PeopleKnownFor</th>\n",
       "      <th>AverageCost</th>\n",
       "    </tr>\n",
       "  </thead>\n",
       "  <tbody>\n",
       "    <tr>\n",
       "      <th>2103</th>\n",
       "      <td>Kasturi Restaurant</td>\n",
       "      <td>Bengali</td>\n",
       "      <td>Gariahat, Kolkata</td>\n",
       "      <td>1</td>\n",
       "      <td>1</td>\n",
       "      <td>1</td>\n",
       "      <td>0</td>\n",
       "      <td>4.1</td>\n",
       "      <td>658</td>\n",
       "      <td>4.1</td>\n",
       "      <td>4983</td>\n",
       "      <td>Kochu Patar Chingri, Dhakai Mangsho, Bhetki Pa...</td>\n",
       "      <td>Comfortable Seating Area, Good for Large Group...</td>\n",
       "      <td>800</td>\n",
       "    </tr>\n",
       "    <tr>\n",
       "      <th>4775</th>\n",
       "      <td>Mahal Restaurant</td>\n",
       "      <td>Bengali</td>\n",
       "      <td>College Street, Kolkata</td>\n",
       "      <td>1</td>\n",
       "      <td>1</td>\n",
       "      <td>1</td>\n",
       "      <td>0</td>\n",
       "      <td>4.0</td>\n",
       "      <td>160</td>\n",
       "      <td>4.1</td>\n",
       "      <td>5073</td>\n",
       "      <td>Katla Kalia, Chingri Malaikari, Aloo Posto, Ch...</td>\n",
       "      <td>Economical, Cute Little Place, Good Crowd, Rea...</td>\n",
       "      <td>400</td>\n",
       "    </tr>\n",
       "  </tbody>\n",
       "</table>\n",
       "</div>"
      ],
      "text/plain": [
       "                    Name Cuisines                     Area  IsHomeDelivery  \\\n",
       "2103  Kasturi Restaurant  Bengali        Gariahat, Kolkata               1   \n",
       "4775    Mahal Restaurant  Bengali  College Street, Kolkata               1   \n",
       "\n",
       "      isTakeaway  isIndoorSeating  isVegOnly  Dinner Ratings  Dinner Reviews  \\\n",
       "2103           1                1          0             4.1             658   \n",
       "4775           1                1          0             4.0             160   \n",
       "\n",
       "      Delivery Ratings  Delivery Reviews  \\\n",
       "2103               4.1              4983   \n",
       "4775               4.1              5073   \n",
       "\n",
       "                                          PopularDishes  \\\n",
       "2103  Kochu Patar Chingri, Dhakai Mangsho, Bhetki Pa...   \n",
       "4775  Katla Kalia, Chingri Malaikari, Aloo Posto, Ch...   \n",
       "\n",
       "                                         PeopleKnownFor  AverageCost  \n",
       "2103  Comfortable Seating Area, Good for Large Group...          800  \n",
       "4775  Economical, Cute Little Place, Good Crowd, Rea...          400  "
      ]
     },
     "execution_count": 47,
     "metadata": {},
     "output_type": "execute_result"
    }
   ],
   "source": [
    "# The highest rating restaurant for any particular cuisines like Bengali\n",
    "new_df.loc[(df['Cuisines']=='Bengali') & (new_df['Dinner Ratings'] >= 4) & (new_df['Delivery Ratings'] >= 4)].sort_values(by=['Dinner Ratings','Delivery Ratings'], ascending=False)[:5]"
   ]
  },
  {
   "cell_type": "code",
   "execution_count": 48,
   "id": "b982267b",
   "metadata": {},
   "outputs": [
    {
     "data": {
      "text/html": [
       "<div>\n",
       "<style scoped>\n",
       "    .dataframe tbody tr th:only-of-type {\n",
       "        vertical-align: middle;\n",
       "    }\n",
       "\n",
       "    .dataframe tbody tr th {\n",
       "        vertical-align: top;\n",
       "    }\n",
       "\n",
       "    .dataframe thead th {\n",
       "        text-align: right;\n",
       "    }\n",
       "</style>\n",
       "<table border=\"1\" class=\"dataframe\">\n",
       "  <thead>\n",
       "    <tr style=\"text-align: right;\">\n",
       "      <th></th>\n",
       "      <th>Name</th>\n",
       "      <th>Cuisines</th>\n",
       "      <th>Area</th>\n",
       "      <th>IsHomeDelivery</th>\n",
       "      <th>isTakeaway</th>\n",
       "      <th>isIndoorSeating</th>\n",
       "      <th>isVegOnly</th>\n",
       "      <th>Dinner Ratings</th>\n",
       "      <th>Dinner Reviews</th>\n",
       "      <th>Delivery Ratings</th>\n",
       "      <th>Delivery Reviews</th>\n",
       "      <th>PopularDishes</th>\n",
       "      <th>PeopleKnownFor</th>\n",
       "      <th>AverageCost</th>\n",
       "    </tr>\n",
       "  </thead>\n",
       "  <tbody>\n",
       "    <tr>\n",
       "      <th>1788</th>\n",
       "      <td>WTF!- Where's The Food</td>\n",
       "      <td>Chinese</td>\n",
       "      <td>Nagerbazar, Kolkata</td>\n",
       "      <td>1</td>\n",
       "      <td>1</td>\n",
       "      <td>1</td>\n",
       "      <td>0</td>\n",
       "      <td>4.2</td>\n",
       "      <td>556</td>\n",
       "      <td>4.0</td>\n",
       "      <td>622</td>\n",
       "      <td>Schezwan Rice, Grilled Fish, Sides, Garlic Chi...</td>\n",
       "      <td>Music and Ambience, Behaviour of the Staff, Ch...</td>\n",
       "      <td>500</td>\n",
       "    </tr>\n",
       "    <tr>\n",
       "      <th>1366</th>\n",
       "      <td>Chufang The Kitchen</td>\n",
       "      <td>Chinese</td>\n",
       "      <td>New Town, Kolkata</td>\n",
       "      <td>1</td>\n",
       "      <td>1</td>\n",
       "      <td>1</td>\n",
       "      <td>0</td>\n",
       "      <td>4.1</td>\n",
       "      <td>250</td>\n",
       "      <td>4.1</td>\n",
       "      <td>4897</td>\n",
       "      <td>Butter Noodles, Mushroom Pepper, Thick Soup, T...</td>\n",
       "      <td>Gastronomical Experience, Cozy Ambience, Chine...</td>\n",
       "      <td>650</td>\n",
       "    </tr>\n",
       "    <tr>\n",
       "      <th>302</th>\n",
       "      <td>Beijing</td>\n",
       "      <td>Chinese</td>\n",
       "      <td>Tangra, Kolkata</td>\n",
       "      <td>1</td>\n",
       "      <td>1</td>\n",
       "      <td>1</td>\n",
       "      <td>0</td>\n",
       "      <td>4.1</td>\n",
       "      <td>2171</td>\n",
       "      <td>4.0</td>\n",
       "      <td>223</td>\n",
       "      <td>Peking Chicken, Honey Prawn, Chilli Garlic Ric...</td>\n",
       "      <td>Family Favorite, Valet Service, Comfortable Se...</td>\n",
       "      <td>800</td>\n",
       "    </tr>\n",
       "  </tbody>\n",
       "</table>\n",
       "</div>"
      ],
      "text/plain": [
       "                        Name Cuisines                 Area  IsHomeDelivery  \\\n",
       "1788  WTF!- Where's The Food  Chinese  Nagerbazar, Kolkata               1   \n",
       "1366     Chufang The Kitchen  Chinese    New Town, Kolkata               1   \n",
       "302                  Beijing  Chinese      Tangra, Kolkata               1   \n",
       "\n",
       "      isTakeaway  isIndoorSeating  isVegOnly  Dinner Ratings  Dinner Reviews  \\\n",
       "1788           1                1          0             4.2             556   \n",
       "1366           1                1          0             4.1             250   \n",
       "302            1                1          0             4.1            2171   \n",
       "\n",
       "      Delivery Ratings  Delivery Reviews  \\\n",
       "1788               4.0               622   \n",
       "1366               4.1              4897   \n",
       "302                4.0               223   \n",
       "\n",
       "                                          PopularDishes  \\\n",
       "1788  Schezwan Rice, Grilled Fish, Sides, Garlic Chi...   \n",
       "1366  Butter Noodles, Mushroom Pepper, Thick Soup, T...   \n",
       "302   Peking Chicken, Honey Prawn, Chilli Garlic Ric...   \n",
       "\n",
       "                                         PeopleKnownFor  AverageCost  \n",
       "1788  Music and Ambience, Behaviour of the Staff, Ch...          500  \n",
       "1366  Gastronomical Experience, Cozy Ambience, Chine...          650  \n",
       "302   Family Favorite, Valet Service, Comfortable Se...          800  "
      ]
     },
     "execution_count": 48,
     "metadata": {},
     "output_type": "execute_result"
    }
   ],
   "source": [
    "# The highest rating restaurant for any particular cuisines like Chinese\n",
    "new_df.loc[(df['Cuisines']=='Chinese') & (new_df['Dinner Ratings'] >= 4) & (new_df['Delivery Ratings'] >= 4)].sort_values(by=['Dinner Ratings','Delivery Ratings'], ascending=False)[:5]"
   ]
  },
  {
   "cell_type": "code",
   "execution_count": 49,
   "id": "4e832fc2",
   "metadata": {},
   "outputs": [
    {
     "data": {
      "text/html": [
       "<div>\n",
       "<style scoped>\n",
       "    .dataframe tbody tr th:only-of-type {\n",
       "        vertical-align: middle;\n",
       "    }\n",
       "\n",
       "    .dataframe tbody tr th {\n",
       "        vertical-align: top;\n",
       "    }\n",
       "\n",
       "    .dataframe thead th {\n",
       "        text-align: right;\n",
       "    }\n",
       "</style>\n",
       "<table border=\"1\" class=\"dataframe\">\n",
       "  <thead>\n",
       "    <tr style=\"text-align: right;\">\n",
       "      <th></th>\n",
       "      <th>Area</th>\n",
       "      <th>Cuisines</th>\n",
       "      <th>Dinner Ratings</th>\n",
       "      <th>Delivery Ratings</th>\n",
       "    </tr>\n",
       "  </thead>\n",
       "  <tbody>\n",
       "    <tr>\n",
       "      <th>3083</th>\n",
       "      <td>Park Street Area, Kolkata</td>\n",
       "      <td>Ice Cream, Desserts</td>\n",
       "      <td>4.9</td>\n",
       "      <td>4.5</td>\n",
       "    </tr>\n",
       "    <tr>\n",
       "      <th>4147</th>\n",
       "      <td>Wellesley, Kolkata</td>\n",
       "      <td>BBQ, Chinese, Kebab, North Indian, Desserts</td>\n",
       "      <td>4.9</td>\n",
       "      <td>3.9</td>\n",
       "    </tr>\n",
       "    <tr>\n",
       "      <th>3026</th>\n",
       "      <td>Park Street Area, Kolkata</td>\n",
       "      <td>Asian, Chinese, Japanese, Thai</td>\n",
       "      <td>4.8</td>\n",
       "      <td>4.1</td>\n",
       "    </tr>\n",
       "    <tr>\n",
       "      <th>7</th>\n",
       "      <td>Acropolis Mall, Kasba, Kolkata</td>\n",
       "      <td>Chinese, Momos, Thai, Asian, Seafood, Sushi, B...</td>\n",
       "      <td>4.8</td>\n",
       "      <td>4.3</td>\n",
       "    </tr>\n",
       "    <tr>\n",
       "      <th>874</th>\n",
       "      <td>Chinar Park, Kolkata</td>\n",
       "      <td>Chinese, Thai, Vietnamese, Malaysian, Asian, N...</td>\n",
       "      <td>4.7</td>\n",
       "      <td>4.1</td>\n",
       "    </tr>\n",
       "    <tr>\n",
       "      <th>1347</th>\n",
       "      <td>Fort Knox, Camac Street Area, Kolkata</td>\n",
       "      <td>Asian, Sushi, Japanese, Chinese, Thai, Momos, ...</td>\n",
       "      <td>4.7</td>\n",
       "      <td>4.1</td>\n",
       "    </tr>\n",
       "    <tr>\n",
       "      <th>3607</th>\n",
       "      <td>Sector 5, Salt Lake, Kolkata</td>\n",
       "      <td>Chinese, Momos, Tibetan, Asian</td>\n",
       "      <td>4.7</td>\n",
       "      <td>4.2</td>\n",
       "    </tr>\n",
       "    <tr>\n",
       "      <th>2250</th>\n",
       "      <td>Kidderpore, Kolkata</td>\n",
       "      <td>Biryani, Mughlai, North Indian, Kebab, Chinese</td>\n",
       "      <td>4.7</td>\n",
       "      <td>4.2</td>\n",
       "    </tr>\n",
       "    <tr>\n",
       "      <th>1333</th>\n",
       "      <td>Esplanade, Kolkata</td>\n",
       "      <td>Chinese, Biryani, North Indian</td>\n",
       "      <td>4.7</td>\n",
       "      <td>4.4</td>\n",
       "    </tr>\n",
       "    <tr>\n",
       "      <th>693</th>\n",
       "      <td>Bhawanipur, Kolkata</td>\n",
       "      <td>Burger, Pizza, Pasta, Continental, Italian, Be...</td>\n",
       "      <td>4.7</td>\n",
       "      <td>3.9</td>\n",
       "    </tr>\n",
       "  </tbody>\n",
       "</table>\n",
       "</div>"
      ],
      "text/plain": [
       "                                       Area  \\\n",
       "3083              Park Street Area, Kolkata   \n",
       "4147                     Wellesley, Kolkata   \n",
       "3026              Park Street Area, Kolkata   \n",
       "7            Acropolis Mall, Kasba, Kolkata   \n",
       "874                    Chinar Park, Kolkata   \n",
       "1347  Fort Knox, Camac Street Area, Kolkata   \n",
       "3607           Sector 5, Salt Lake, Kolkata   \n",
       "2250                    Kidderpore, Kolkata   \n",
       "1333                     Esplanade, Kolkata   \n",
       "693                     Bhawanipur, Kolkata   \n",
       "\n",
       "                                               Cuisines  Dinner Ratings  \\\n",
       "3083                                Ice Cream, Desserts             4.9   \n",
       "4147        BBQ, Chinese, Kebab, North Indian, Desserts             4.9   \n",
       "3026                     Asian, Chinese, Japanese, Thai             4.8   \n",
       "7     Chinese, Momos, Thai, Asian, Seafood, Sushi, B...             4.8   \n",
       "874   Chinese, Thai, Vietnamese, Malaysian, Asian, N...             4.7   \n",
       "1347  Asian, Sushi, Japanese, Chinese, Thai, Momos, ...             4.7   \n",
       "3607                     Chinese, Momos, Tibetan, Asian             4.7   \n",
       "2250     Biryani, Mughlai, North Indian, Kebab, Chinese             4.7   \n",
       "1333                     Chinese, Biryani, North Indian             4.7   \n",
       "693   Burger, Pizza, Pasta, Continental, Italian, Be...             4.7   \n",
       "\n",
       "      Delivery Ratings  \n",
       "3083               4.5  \n",
       "4147               3.9  \n",
       "3026               4.1  \n",
       "7                  4.3  \n",
       "874                4.1  \n",
       "1347               4.1  \n",
       "3607               4.2  \n",
       "2250               4.2  \n",
       "1333               4.4  \n",
       "693                3.9  "
      ]
     },
     "execution_count": 49,
     "metadata": {},
     "output_type": "execute_result"
    }
   ],
   "source": [
    "# Cuisines are the most famous in different localities\n",
    "cuisine_rating = new_df.groupby(['Area','Cuisines'])[['Dinner Ratings','Delivery Ratings']].mean().reset_index()\n",
    "top10_area_cuisine = cuisine_rating.sort_values('Dinner Ratings', ascending=False).head(10)\n",
    "top10_area_cuisine"
   ]
  },
  {
   "cell_type": "code",
   "execution_count": 50,
   "id": "f87de390",
   "metadata": {},
   "outputs": [
    {
     "data": {
      "text/html": [
       "<div>\n",
       "<style scoped>\n",
       "    .dataframe tbody tr th:only-of-type {\n",
       "        vertical-align: middle;\n",
       "    }\n",
       "\n",
       "    .dataframe tbody tr th {\n",
       "        vertical-align: top;\n",
       "    }\n",
       "\n",
       "    .dataframe thead th {\n",
       "        text-align: right;\n",
       "    }\n",
       "</style>\n",
       "<table border=\"1\" class=\"dataframe\">\n",
       "  <thead>\n",
       "    <tr style=\"text-align: right;\">\n",
       "      <th></th>\n",
       "      <th>Name</th>\n",
       "      <th>Cuisines</th>\n",
       "      <th>Area</th>\n",
       "      <th>IsHomeDelivery</th>\n",
       "      <th>isTakeaway</th>\n",
       "      <th>isIndoorSeating</th>\n",
       "      <th>isVegOnly</th>\n",
       "      <th>Dinner Ratings</th>\n",
       "      <th>Dinner Reviews</th>\n",
       "      <th>Delivery Ratings</th>\n",
       "      <th>Delivery Reviews</th>\n",
       "      <th>PopularDishes</th>\n",
       "      <th>PeopleKnownFor</th>\n",
       "      <th>AverageCost</th>\n",
       "    </tr>\n",
       "  </thead>\n",
       "  <tbody>\n",
       "    <tr>\n",
       "      <th>0</th>\n",
       "      <td>Jyoti Vihar</td>\n",
       "      <td>South Indian</td>\n",
       "      <td>Camac Street Area, Kolkata</td>\n",
       "      <td>1</td>\n",
       "      <td>1</td>\n",
       "      <td>1</td>\n",
       "      <td>1</td>\n",
       "      <td>4.4</td>\n",
       "      <td>930</td>\n",
       "      <td>4.1</td>\n",
       "      <td>5498</td>\n",
       "      <td>Milk Upma, Jyoti Vihar, Vada Sambar, Filtered ...</td>\n",
       "      <td>South Indian Food, Good Crowd, Excellent Place...</td>\n",
       "      <td>300</td>\n",
       "    </tr>\n",
       "    <tr>\n",
       "      <th>1</th>\n",
       "      <td>WOW! Momo</td>\n",
       "      <td>Momos, Fast Food, Tibetan</td>\n",
       "      <td>Park Street Area, Kolkata</td>\n",
       "      <td>1</td>\n",
       "      <td>1</td>\n",
       "      <td>1</td>\n",
       "      <td>0</td>\n",
       "      <td>4.0</td>\n",
       "      <td>469</td>\n",
       "      <td>4.1</td>\n",
       "      <td>11100</td>\n",
       "      <td>Tandoori Paneer Momos, Momo Platter, Chocolate...</td>\n",
       "      <td>Comfortable Seating Area, Staff Service, Famil...</td>\n",
       "      <td>350</td>\n",
       "    </tr>\n",
       "  </tbody>\n",
       "</table>\n",
       "</div>"
      ],
      "text/plain": [
       "          Name                   Cuisines                        Area  \\\n",
       "0  Jyoti Vihar               South Indian  Camac Street Area, Kolkata   \n",
       "1    WOW! Momo  Momos, Fast Food, Tibetan   Park Street Area, Kolkata   \n",
       "\n",
       "   IsHomeDelivery  isTakeaway  isIndoorSeating  isVegOnly  Dinner Ratings  \\\n",
       "0               1           1                1          1             4.4   \n",
       "1               1           1                1          0             4.0   \n",
       "\n",
       "   Dinner Reviews  Delivery Ratings  Delivery Reviews  \\\n",
       "0             930               4.1              5498   \n",
       "1             469               4.1             11100   \n",
       "\n",
       "                                       PopularDishes  \\\n",
       "0  Milk Upma, Jyoti Vihar, Vada Sambar, Filtered ...   \n",
       "1  Tandoori Paneer Momos, Momo Platter, Chocolate...   \n",
       "\n",
       "                                      PeopleKnownFor  AverageCost  \n",
       "0  South Indian Food, Good Crowd, Excellent Place...          300  \n",
       "1  Comfortable Seating Area, Staff Service, Famil...          350  "
      ]
     },
     "execution_count": 50,
     "metadata": {},
     "output_type": "execute_result"
    }
   ],
   "source": [
    "new_df.head(2)"
   ]
  },
  {
   "cell_type": "code",
   "execution_count": 51,
   "id": "b222dc52",
   "metadata": {},
   "outputs": [
    {
     "data": {
      "text/html": [
       "<div>\n",
       "<style scoped>\n",
       "    .dataframe tbody tr th:only-of-type {\n",
       "        vertical-align: middle;\n",
       "    }\n",
       "\n",
       "    .dataframe tbody tr th {\n",
       "        vertical-align: top;\n",
       "    }\n",
       "\n",
       "    .dataframe thead th {\n",
       "        text-align: right;\n",
       "    }\n",
       "</style>\n",
       "<table border=\"1\" class=\"dataframe\">\n",
       "  <thead>\n",
       "    <tr style=\"text-align: right;\">\n",
       "      <th></th>\n",
       "      <th>Area</th>\n",
       "      <th>Name</th>\n",
       "      <th>Dinner Ratings</th>\n",
       "      <th>Delivery Ratings</th>\n",
       "    </tr>\n",
       "  </thead>\n",
       "  <tbody>\n",
       "    <tr>\n",
       "      <th>3620</th>\n",
       "      <td>Park Street Area, Kolkata</td>\n",
       "      <td>Natural Ice Cream</td>\n",
       "      <td>4.9</td>\n",
       "      <td>4.5</td>\n",
       "    </tr>\n",
       "    <tr>\n",
       "      <th>4860</th>\n",
       "      <td>Wellesley, Kolkata</td>\n",
       "      <td>Barbeque Nation</td>\n",
       "      <td>4.9</td>\n",
       "      <td>3.9</td>\n",
       "    </tr>\n",
       "    <tr>\n",
       "      <th>3629</th>\n",
       "      <td>Park Street Area, Kolkata</td>\n",
       "      <td>Pa Pa Ya</td>\n",
       "      <td>4.8</td>\n",
       "      <td>4.1</td>\n",
       "    </tr>\n",
       "    <tr>\n",
       "      <th>1</th>\n",
       "      <td>Acropolis Mall, Kasba, Kolkata</td>\n",
       "      <td>Asia Kitchen By Mainland China</td>\n",
       "      <td>4.8</td>\n",
       "      <td>4.3</td>\n",
       "    </tr>\n",
       "    <tr>\n",
       "      <th>2654</th>\n",
       "      <td>Kidderpore, Kolkata</td>\n",
       "      <td>India Restaurant</td>\n",
       "      <td>4.7</td>\n",
       "      <td>4.2</td>\n",
       "    </tr>\n",
       "    <tr>\n",
       "      <th>1605</th>\n",
       "      <td>Esplanade, Kolkata</td>\n",
       "      <td>Chittoda's Suruchee Restaurant</td>\n",
       "      <td>4.7</td>\n",
       "      <td>4.4</td>\n",
       "    </tr>\n",
       "    <tr>\n",
       "      <th>881</th>\n",
       "      <td>Bhawanipur, Kolkata</td>\n",
       "      <td>My Big Fat Belly</td>\n",
       "      <td>4.7</td>\n",
       "      <td>3.9</td>\n",
       "    </tr>\n",
       "    <tr>\n",
       "      <th>4253</th>\n",
       "      <td>Sector 5, Salt Lake, Kolkata</td>\n",
       "      <td>Momo I Am</td>\n",
       "      <td>4.7</td>\n",
       "      <td>4.2</td>\n",
       "    </tr>\n",
       "    <tr>\n",
       "      <th>1617</th>\n",
       "      <td>Fort Knox, Camac Street Area, Kolkata</td>\n",
       "      <td>The Fatty Bao</td>\n",
       "      <td>4.7</td>\n",
       "      <td>4.1</td>\n",
       "    </tr>\n",
       "    <tr>\n",
       "      <th>1049</th>\n",
       "      <td>Chinar Park, Kolkata</td>\n",
       "      <td>Friends Of Pho - Asian Fine Dining Club</td>\n",
       "      <td>4.7</td>\n",
       "      <td>4.1</td>\n",
       "    </tr>\n",
       "  </tbody>\n",
       "</table>\n",
       "</div>"
      ],
      "text/plain": [
       "                                       Area  \\\n",
       "3620              Park Street Area, Kolkata   \n",
       "4860                     Wellesley, Kolkata   \n",
       "3629              Park Street Area, Kolkata   \n",
       "1            Acropolis Mall, Kasba, Kolkata   \n",
       "2654                    Kidderpore, Kolkata   \n",
       "1605                     Esplanade, Kolkata   \n",
       "881                     Bhawanipur, Kolkata   \n",
       "4253           Sector 5, Salt Lake, Kolkata   \n",
       "1617  Fort Knox, Camac Street Area, Kolkata   \n",
       "1049                   Chinar Park, Kolkata   \n",
       "\n",
       "                                         Name  Dinner Ratings  \\\n",
       "3620                        Natural Ice Cream             4.9   \n",
       "4860                          Barbeque Nation             4.9   \n",
       "3629                                 Pa Pa Ya             4.8   \n",
       "1              Asia Kitchen By Mainland China             4.8   \n",
       "2654                         India Restaurant             4.7   \n",
       "1605           Chittoda's Suruchee Restaurant             4.7   \n",
       "881                          My Big Fat Belly             4.7   \n",
       "4253                                Momo I Am             4.7   \n",
       "1617                            The Fatty Bao             4.7   \n",
       "1049  Friends Of Pho - Asian Fine Dining Club             4.7   \n",
       "\n",
       "      Delivery Ratings  \n",
       "3620               4.5  \n",
       "4860               3.9  \n",
       "3629               4.1  \n",
       "1                  4.3  \n",
       "2654               4.2  \n",
       "1605               4.4  \n",
       "881                3.9  \n",
       "4253               4.2  \n",
       "1617               4.1  \n",
       "1049               4.1  "
      ]
     },
     "execution_count": 51,
     "metadata": {},
     "output_type": "execute_result"
    }
   ],
   "source": [
    "# Restaurant are the most famous in different localities\n",
    "restaurant_rating = new_df.groupby(['Area','Name'])[['Dinner Ratings','Delivery Ratings']].mean().reset_index()\n",
    "top10_area_res = restaurant_rating.sort_values('Dinner Ratings', ascending=False).head(10)\n",
    "top10_area_res"
   ]
  },
  {
   "cell_type": "code",
   "execution_count": null,
   "id": "c5e0fa6c",
   "metadata": {},
   "outputs": [],
   "source": []
  }
 ],
 "metadata": {
  "kernelspec": {
   "display_name": "Python 3 (ipykernel)",
   "language": "python",
   "name": "python3"
  },
  "language_info": {
   "codemirror_mode": {
    "name": "ipython",
    "version": 3
   },
   "file_extension": ".py",
   "mimetype": "text/x-python",
   "name": "python",
   "nbconvert_exporter": "python",
   "pygments_lexer": "ipython3",
   "version": "3.10.0"
  }
 },
 "nbformat": 4,
 "nbformat_minor": 5
}
